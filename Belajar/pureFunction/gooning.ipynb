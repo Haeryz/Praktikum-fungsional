{
 "cells": [
  {
   "cell_type": "code",
   "execution_count": null,
   "metadata": {},
   "outputs": [],
   "source": []
  },
  {
   "cell_type": "markdown",
   "metadata": {},
   "source": [
    "1. List"
   ]
  },
  {
   "cell_type": "code",
   "execution_count": 5,
   "metadata": {},
   "outputs": [
    {
     "data": {
      "text/plain": [
       "[1, 4, 9, 16]"
      ]
     },
     "execution_count": 5,
     "metadata": {},
     "output_type": "execute_result"
    }
   ],
   "source": [
    "def square_elements(numbers):\n",
    "    squaredList = [sigma**2 for sigma in numbers] \n",
    "    return squaredList\n",
    "\n",
    "\n",
    "# Example usage:\n",
    "original_list = [1, 2, 3, 4]\n",
    "square_elements(original_list)\n",
    "# print(square_elements(original_list))  # Output should be [1, 4, 9, 16]\n",
    "# print(original_list)                   # Should remain [1, 2, 3, 4]\n"
   ]
  },
  {
   "cell_type": "markdown",
   "metadata": {},
   "source": [
    "Tupple"
   ]
  },
  {
   "cell_type": "code",
   "execution_count": 10,
   "metadata": {},
   "outputs": [
    {
     "name": "stdout",
     "output_type": "stream",
     "text": [
      "('elppa', 'ananab', 'yrrehc')\n",
      "('apple', 'banana', 'cherry')\n"
     ]
    }
   ],
   "source": [
    "def reverse_strings(words):\n",
    "    reversedString = tuple(wahyu[::-1] for wahyu in words)\n",
    "    return reversedString\n",
    "    pass\n",
    "\n",
    "# Example usage:\n",
    "original_tuple = (\"apple\", \"banana\", \"cherry\")\n",
    "print(reverse_strings(original_tuple))  # Output should be ('elppa', 'ananab', 'yrrehc')\n",
    "print(original_tuple)                   # Should remain (\"apple\", \"banana\", \"cherry\")\n"
   ]
  },
  {
   "cell_type": "markdown",
   "metadata": {},
   "source": [
    "dic"
   ]
  },
  {
   "cell_type": "code",
   "execution_count": 5,
   "metadata": {},
   "outputs": [
    {
     "ename": "AttributeError",
     "evalue": "'str' object has no attribute 'values'",
     "output_type": "error",
     "traceback": [
      "\u001b[1;31m---------------------------------------------------------------------------\u001b[0m",
      "\u001b[1;31mAttributeError\u001b[0m                            Traceback (most recent call last)",
      "Cell \u001b[1;32mIn[5], line 8\u001b[0m\n\u001b[0;32m      6\u001b[0m \u001b[38;5;66;03m# Example usage:\u001b[39;00m\n\u001b[0;32m      7\u001b[0m original_dict \u001b[38;5;241m=\u001b[39m {\u001b[38;5;124m\"\u001b[39m\u001b[38;5;124mapple\u001b[39m\u001b[38;5;124m\"\u001b[39m: \u001b[38;5;241m100\u001b[39m, \u001b[38;5;124m\"\u001b[39m\u001b[38;5;124mbanana\u001b[39m\u001b[38;5;124m\"\u001b[39m: \u001b[38;5;241m50\u001b[39m, \u001b[38;5;124m\"\u001b[39m\u001b[38;5;124mcherry\u001b[39m\u001b[38;5;124m\"\u001b[39m: \u001b[38;5;241m75\u001b[39m}\n\u001b[1;32m----> 8\u001b[0m \u001b[38;5;28mprint\u001b[39m(\u001b[43mapply_discount\u001b[49m\u001b[43m(\u001b[49m\u001b[43moriginal_dict\u001b[49m\u001b[43m,\u001b[49m\u001b[43m \u001b[49m\u001b[38;5;241;43m10\u001b[39;49m\u001b[43m)\u001b[49m)  \u001b[38;5;66;03m# Output should be {'apple': 90, 'banana': 45, 'cherry': 67.5}\u001b[39;00m\n\u001b[0;32m      9\u001b[0m \u001b[38;5;28mprint\u001b[39m(original_dict)                      \u001b[38;5;66;03m# Should remain {\"apple\": 100, \"banana\": 50, \"cherry\": 75}\u001b[39;00m\n",
      "Cell \u001b[1;32mIn[5], line 2\u001b[0m, in \u001b[0;36mapply_discount\u001b[1;34m(products, discount_percentage)\u001b[0m\n\u001b[0;32m      1\u001b[0m \u001b[38;5;28;01mdef\u001b[39;00m \u001b[38;5;21mapply_discount\u001b[39m(products, discount_percentage):\n\u001b[1;32m----> 2\u001b[0m     mewing \u001b[38;5;241m=\u001b[39m {\u001b[43mfanum\u001b[49m\u001b[38;5;241;43m.\u001b[39;49m\u001b[43mvalues\u001b[49m() \u001b[38;5;241m/\u001b[39m discount_percentage \u001b[38;5;28;01mfor\u001b[39;00m fanum \u001b[38;5;129;01min\u001b[39;00m products}\n\u001b[0;32m      3\u001b[0m     \u001b[38;5;28;01mreturn\u001b[39;00m mewing\n\u001b[0;32m      4\u001b[0m     \u001b[38;5;28;01mpass\u001b[39;00m\n",
      "\u001b[1;31mAttributeError\u001b[0m: 'str' object has no attribute 'values'"
     ]
    }
   ],
   "source": [
    "def apply_discount(products, discount_percentage):\n",
    "    # Calculate the discount factor\n",
    "    discount_factor = (100 - discount_percentage) / 100\n",
    "    \n",
    "    # Apply the discount to each product price\n",
    "    discounted_products = {product: price * discount_factor for product, price in products.items()}\n",
    "    \n",
    "    return discounted_products\n",
    "\n",
    "# Example usage:\n",
    "original_dict = {\"apple\": 100, \"banana\": 50, \"cherry\": 75}\n",
    "print(apply_discount(original_dict, 10))  # Output should be {'apple': 90, 'banana': 45, 'cherry': 67.5}\n",
    "print(original_dict)\n"
   ]
  },
  {
   "cell_type": "markdown",
   "metadata": {},
   "source": [
    "Lazy evaluataion"
   ]
  },
  {
   "cell_type": "code",
   "execution_count": 23,
   "metadata": {},
   "outputs": [
    {
     "name": "stdout",
     "output_type": "stream",
     "text": [
      "4\n",
      "16\n",
      "36\n"
     ]
    }
   ],
   "source": [
    "def lazy_square_of_evens(numbers):\n",
    "    # evenSquare = [skibidi**2 for skibidi in numbers if skibidi %2 == 0]\n",
    "    for skibidi in numbers:\n",
    "        if skibidi %2 == 0:\n",
    "            yield skibidi**2\n",
    "\n",
    "\n",
    "# Example usage:\n",
    "original_list = [1, 2, 3, 4, 5, 6]\n",
    "squares_of_evens = lazy_square_of_evens(original_list)\n",
    "print(next(squares_of_evens))\n",
    "print(next(squares_of_evens))\n",
    "print(next(squares_of_evens))\n"
   ]
  },
  {
   "cell_type": "code",
   "execution_count": null,
   "metadata": {},
   "outputs": [],
   "source": [
    "from functools import reduce\n",
    "\n",
    "def fibonacci_even_sum(n, a=0, b=1, fib_list=None):\n",
    "    \"\"\"\n",
    "    Recursively generates the first `n` Fibonacci numbers,\n",
    "    filters for even numbers, and sums them using reduce.\n",
    "    \"\"\"\n",
    "    \n",
    "    \n",
    "    if fib_list is None:\n",
    "        fib_list = []\n",
    "    \n",
    "    # Base case: stop if we have generated `n` Fibonacci numbers\n",
    "    if len(fib_list) >= n:\n",
    "        # Filter for even Fibonacci numbers and reduce to sum them\n",
    "        even_fib_sum = reduce(lambda x, y: x + y, filter(lambda x: x % 2 == 0, fib_list))\n",
    "        return even_fib_sum\n",
    "    \n",
    "    # Recursive case: append the next Fibonacci number to the list\n",
    "    fib_list.append(a)\n",
    "    return fibonacci_even_sum(n, b, a + b, fib_list)\n",
    "\n",
    "# Example usage:\n",
    "n = 6\n",
    "print(fibonacci_even_sum(n))  # Output should be 2 for n = 6\n"
   ]
  },
  {
   "cell_type": "code",
   "execution_count": 13,
   "metadata": {},
   "outputs": [
    {
     "ename": "TypeError",
     "evalue": "'bool' object is not iterable",
     "output_type": "error",
     "traceback": [
      "\u001b[1;31m---------------------------------------------------------------------------\u001b[0m",
      "\u001b[1;31mTypeError\u001b[0m                                 Traceback (most recent call last)",
      "Cell \u001b[1;32mIn[13], line 13\u001b[0m\n\u001b[0;32m     11\u001b[0m \u001b[38;5;66;03m# Example usage:\u001b[39;00m\n\u001b[0;32m     12\u001b[0m numbers \u001b[38;5;241m=\u001b[39m [\u001b[38;5;241m-\u001b[39m\u001b[38;5;241m3\u001b[39m, \u001b[38;5;241m-\u001b[39m\u001b[38;5;241m2\u001b[39m, \u001b[38;5;241m1\u001b[39m, \u001b[38;5;241m4\u001b[39m, \u001b[38;5;241m5\u001b[39m, \u001b[38;5;241m6\u001b[39m, \u001b[38;5;241m-\u001b[39m\u001b[38;5;241m7\u001b[39m, \u001b[38;5;241m8\u001b[39m]\n\u001b[1;32m---> 13\u001b[0m \u001b[38;5;28mprint\u001b[39m(\u001b[43mprocess_numbers\u001b[49m\u001b[43m(\u001b[49m\u001b[43mnumbers\u001b[49m\u001b[43m)\u001b[49m)  \u001b[38;5;66;03m# Expected output: [1, 25]\u001b[39;00m\n",
      "Cell \u001b[1;32mIn[13], line 8\u001b[0m, in \u001b[0;36mprocess_numbers\u001b[1;34m(numbers)\u001b[0m\n\u001b[0;32m      2\u001b[0m \u001b[38;5;250m\u001b[39m\u001b[38;5;124;03m\"\"\"\u001b[39;00m\n\u001b[0;32m      3\u001b[0m \u001b[38;5;124;03mTakes a list of integers, filters out negatives, squares odd numbers,\u001b[39;00m\n\u001b[0;32m      4\u001b[0m \u001b[38;5;124;03mand returns a new list with these squared odd numbers.\u001b[39;00m\n\u001b[0;32m      5\u001b[0m \u001b[38;5;124;03m\"\"\"\u001b[39;00m\n\u001b[0;32m      6\u001b[0m \u001b[38;5;66;03m# Fill in the list comprehension logic here\u001b[39;00m\n\u001b[1;32m----> 8\u001b[0m mewing \u001b[38;5;241m=\u001b[39m [ohio\u001b[38;5;241m*\u001b[39m\u001b[38;5;241m*\u001b[39m\u001b[38;5;241m2\u001b[39m \u001b[38;5;28;01mfor\u001b[39;00m ohio \u001b[38;5;129;01min\u001b[39;00m numbers \u001b[38;5;28;01mif\u001b[39;00m \u001b[38;5;28;43mfilter\u001b[39;49m\u001b[43m(\u001b[49m\u001b[43mohio\u001b[49m\u001b[43m \u001b[49m\u001b[38;5;241;43m%\u001b[39;49m\u001b[38;5;241;43m2\u001b[39;49m\u001b[43m \u001b[49m\u001b[38;5;241;43m!=\u001b[39;49m\u001b[43m \u001b[49m\u001b[38;5;241;43m0\u001b[39;49m\u001b[43m,\u001b[49m\u001b[43m \u001b[49m\u001b[43mohio\u001b[49m\u001b[43m \u001b[49m\u001b[38;5;241;43m>\u001b[39;49m\u001b[43m \u001b[49m\u001b[38;5;241;43m0\u001b[39;49m\u001b[43m)\u001b[49m]\n\u001b[0;32m      9\u001b[0m \u001b[38;5;28;01mreturn\u001b[39;00m mewing\n",
      "\u001b[1;31mTypeError\u001b[0m: 'bool' object is not iterable"
     ]
    }
   ],
   "source": [
    "def process_numbers(numbers):\n",
    "    \"\"\"\n",
    "    Takes a list of integers, filters out negatives, squares odd numbers,\n",
    "    and returns a new list with these squared odd numbers.\n",
    "    \"\"\"\n",
    "    # Fill in the list comprehension logic here\n",
    "    \n",
    "    mewing = [ohio**2 for ohio in numbers if ohio %2 != 0 and ohio > 0]\n",
    "    return mewing\n",
    "\n",
    "# Example usage:\n",
    "numbers = [-3, -2, 1, 4, 5, 6, -7, 8]\n",
    "print(process_numbers(numbers))  # Expected output: [1, 25]\n"
   ]
  },
  {
   "cell_type": "code",
   "execution_count": 11,
   "metadata": {},
   "outputs": [
    {
     "name": "stdout",
     "output_type": "stream",
     "text": [
      "56\n"
     ]
    }
   ],
   "source": [
    "from functools import reduce\n",
    "\n",
    "numbers = [1, 2, 3, 4, 5, 6]\n",
    "sum_even_squares = reduce(lambda x, y: x + y, map(lambda n: n ** 2, filter(lambda n: n % 2 == 0, numbers)), 0)\n",
    "print(sum_even_squares)  # Output: 56\n"
   ]
  },
  {
   "cell_type": "code",
   "execution_count": 15,
   "metadata": {},
   "outputs": [
    {
     "name": "stdout",
     "output_type": "stream",
     "text": [
      "Fibonacci sequence:\n",
      "0\n",
      "1\n",
      "1\n",
      "2\n",
      "3\n",
      "5\n",
      "8\n",
      "13\n",
      "21\n",
      "34\n"
     ]
    }
   ],
   "source": [
    "# Python program to display the Fibonacci sequence\n",
    "\n",
    "def recur_fibo(n):\n",
    "   if n <= 1:\n",
    "       return n\n",
    "   else:\n",
    "       return(recur_fibo(n-1) + recur_fibo(n-2))\n",
    "\n",
    "nterms = 10\n",
    "\n",
    "# check if the number of terms is valid\n",
    "if nterms <= 0:\n",
    "   print(\"Plese enter a positive integer\")\n",
    "else:\n",
    "   print(\"Fibonacci sequence:\")\n",
    "   for i in range(nterms):\n",
    "       print(recur_fibo(i))\n",
    "\n"
   ]
  },
  {
   "cell_type": "code",
   "execution_count": 27,
   "metadata": {},
   "outputs": [
    {
     "name": "stdout",
     "output_type": "stream",
     "text": [
      "Rp. 84\n"
     ]
    }
   ],
   "source": [
    "from functools import reduce\n",
    "\n",
    "prices = [110, 200, 300, 397, 445]\n",
    "\n",
    "total = reduce(lambda x, y: x + y, map(lambda n: n ** 2, filter(lambda n: n % 2 != 0, numbers)), 0)\n",
    "\n",
    "print(f\"Rp. {total}\")"
   ]
  }
 ],
 "metadata": {
  "kernelspec": {
   "display_name": "fungsional",
   "language": "python",
   "name": "python3"
  },
  "language_info": {
   "codemirror_mode": {
    "name": "ipython",
    "version": 3
   },
   "file_extension": ".py",
   "mimetype": "text/x-python",
   "name": "python",
   "nbconvert_exporter": "python",
   "pygments_lexer": "ipython3",
   "version": "3.12.6"
  }
 },
 "nbformat": 4,
 "nbformat_minor": 2
}
