{
 "cells": [
  {
   "cell_type": "code",
   "execution_count": null,
   "metadata": {},
   "outputs": [
    {
     "ename": "",
     "evalue": "",
     "output_type": "error",
     "traceback": [
      "\u001b[1;31mRunning cells with 'fungsional (Python 3.12.6)' requires the ipykernel package.\n",
      "\u001b[1;31mRun the following command to install 'ipykernel' into the Python environment. \n",
      "\u001b[1;31mCommand: '\"d:/Praktikum fungsional/fungsional/Scripts/python.exe\" -m pip install ipykernel -U --force-reinstall'"
     ]
    }
   ],
   "source": [
    "random_list = [900, 3.1, 3078, \"Hello\", 737, \"Python\", 2.7, 2002, 50,\n",
    "               \"Tech Winter\", 7.566, 40, 1, \"Is\", 60.5, \"Better\", 1000.1,\n",
    "               4, \"world\", 412, 5.5, \"AI\", 99.234, 12000]\n",
    "\n",
    "data_tuple = ()\n",
    "data_list = []\n",
    "data_dict = {}\n",
    "\n",
    "for data in random_list:\n",
    "    if isinstance(data, float):\n",
    "        data_tuple += (data, )\n",
    "    elif isinstance(data, str):\n",
    "        data_list.append(data)\n",
    "    elif isinstance(data, int):\n",
    "        if data < 10:\n",
    "            data_dict[data] = \"satuan\"\n",
    "        elif data < 100:\n",
    "            data_dict[data] = \"puluhan\"\n",
    "        elif data < 1000:\n",
    "            data_dict[data] = \"ratusan\"\n",
    "        else:\n",
    "            data_dict[data] = \"ribuan\"\n",
    "\n",
    "# Output hasilnya\n",
    "print(\"data dict =\", data_dict)\n",
    "for key, value in data_dict.items():\n",
    "    print(key, \" = \", value)\n",
    "\n",
    "print(\"float data tuple = \", data_tuple)\n",
    "print(\"string data list = \", data_list)\n"
   ]
  },
  {
   "cell_type": "code",
   "execution_count": 3,
   "metadata": {},
   "outputs": [
    {
     "name": "stdout",
     "output_type": "stream",
     "text": [
      "hasil genap :  [6, 8]\n",
      "hasil ganjil :  (1, 9)\n"
     ]
    }
   ],
   "source": [
    "def pisahkan_genap_ganjil(input_bilangan):\n",
    "\n",
    "    # Tulis kode dibawah\n",
    "    list_genap = []\n",
    "    tuple_ganjil = ()\n",
    "    # Memisahkan bilangan dan mengelompokkan ke genap atau ganjil\n",
    "    for x in input_bilangan.split():\n",
    "        bilangan =  int(x)\n",
    "        if bilangan % 2 == 0:\n",
    "           list_genap.append(bilangan)\n",
    "        else:\n",
    "           tuple_ganjil += (bilangan,)\n",
    "\n",
    "    return list_genap, tuple_ganjil\n",
    "\n",
    "# Meminta pengguna memasukkan bilangan yang dipisahkan oleh spasi\n",
    "input_bilangan = input(\"Masukkan beberapa bilangan yang dipisahkan oleh spasi : \")\n",
    "\n",
    "# Memanggil fungsi untuk memisahkan bilangan genap dan ganjil\n",
    "result_genap, result_ganjil = pisahkan_genap_ganjil(input_bilangan)\n",
    "print(\"hasil genap : \", result_genap)\n",
    "print(\"hasil ganjil : \", result_ganjil) "
   ]
  },
  {
   "cell_type": "code",
   "execution_count": 1,
   "metadata": {},
   "outputs": [
    {
     "name": "stdout",
     "output_type": "stream",
     "text": [
      "Nilai rata-rata Rifai adalah 86.67\n",
      "Nilai rata-rata Fathul adalah 86.67\n",
      "Nilai rata-rata Iqbal adalah 86.67\n",
      "Nilai rata-rata Adi adalah 86.67\n",
      "Nilai rata-rata Asep adalah 86.67\n",
      "Nilai rata-rata semua mahasiswa adalah 86.67\n"
     ]
    }
   ],
   "source": [
    "\n",
    "#TO_DO 1\n",
    "# HANYA CONTOH, silahkan dimodif\n",
    "nilai_mahasiswa = {\n",
    "    \"Rifai\": {\"P.WEB\": 90, \"P.FUNGSIONAL\": 85, \"P.MOBILE\": 85},\n",
    "    \"Fathul\": {\"P.WEB\": 90, \"P.FUNGSIONAL\": 85, \"P.MOBILE\": 85},\n",
    "    \"Iqbal\": {\"P.WEB\": 90, \"P.FUNGSIONAL\": 85, \"P.MOBILE\": 85},\n",
    "    \"Adi\": {\"P.WEB\": 90, \"P.FUNGSIONAL\": 85, \"P.MOBILE\": 85},\n",
    "    \"Asep\": {\"P.WEB\": 90, \"P.FUNGSIONAL\": 85, \"P.MOBILE\": 85}\n",
    "}\n",
    "\n",
    "#TO_DO 2\n",
    "# Function each average\n",
    "def rata_rata_mahasiswa(nilai_mahasiswa):\n",
    "    rata_rata_mahasiswa = {}\n",
    "    for mahasiswa, nilai in nilai_mahasiswa.items():\n",
    "        rata_rata = sum(nilai.values())\n",
    "        rata_rata = rata_rata / len(nilai)\n",
    "        rata_rata_mahasiswa[mahasiswa] = rata_rata\n",
    "    return rata_rata_mahasiswa\n",
    "\n",
    "\n",
    "#TO_DO 3\n",
    "# Function all average\n",
    "def rata_rata_semua_mahasiswa(nilai_mahasiswa):\n",
    "    total_nilai = 0\n",
    "    total_matakuliah = 0\n",
    "    for nilai in nilai_mahasiswa.values():\n",
    "        total_nilai += sum(nilai.values())\n",
    "        total_matakuliah += len(nilai)\n",
    "    return total_nilai / total_matakuliah\n",
    "\n",
    "rata_rata_mahasiswa = rata_rata_mahasiswa(nilai_mahasiswa)\n",
    "for mahasiswa, rata_rata in rata_rata_mahasiswa.items():\n",
    "    print(f\"Nilai rata-rata {mahasiswa} adalah {rata_rata:.2f}\")\n",
    "    \n",
    "rata_rata_semua_mahasiswa = rata_rata_semua_mahasiswa(nilai_mahasiswa)\n",
    "print(f\"Nilai rata-rata semua mahasiswa adalah {rata_rata_semua_mahasiswa:.2f}\")"
   ]
  }
 ],
 "metadata": {
  "kernelspec": {
   "display_name": "fungsional",
   "language": "python",
   "name": "python3"
  },
  "language_info": {
   "codemirror_mode": {
    "name": "ipython",
    "version": 3
   },
   "file_extension": ".py",
   "mimetype": "text/x-python",
   "name": "python",
   "nbconvert_exporter": "python",
   "pygments_lexer": "ipython3",
   "version": "3.12.6"
  }
 },
 "nbformat": 4,
 "nbformat_minor": 2
}
