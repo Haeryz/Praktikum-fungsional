{
 "cells": [
  {
   "cell_type": "code",
   "execution_count": 3,
   "metadata": {},
   "outputs": [
    {
     "name": "stdout",
     "output_type": "stream",
     "text": [
      "Nilai Mobile ditambahkan 15. \n",
      "Total nilai Mobile saat ini 70\n",
      "Nilai awal:  [{'matkul': 'Fungsional', 'nilai': 95}, {'matkul': 'Mobile', 'nilai': 55}]\n",
      "Nilai update:  [{'matkul': 'Fungsional', 'nilai': 95}, {'matkul': 'Mobile', 'nilai': 70}]\n"
     ]
    }
   ],
   "source": [
    "nilai = [ {'matkul': 'Fungsional', 'nilai': 95},\n",
    "          {'matkul': 'Mobile', 'nilai': 55} ]\n",
    "\n",
    "def tambah_nilai(nama_matkul, jumlah_nilai, daftar_nilai):  # TO-DO 1: input variabel `daftar_nilai`\n",
    "    hasil_baru = []  # Membuat salinan hasil yang baru, tanpa mengubah data asli\n",
    "    for item in daftar_nilai:\n",
    "        if item['matkul'] == nama_matkul:\n",
    "            nilai_baru = item['nilai'] + jumlah_nilai\n",
    "            hasil_baru.append({'matkul': item['matkul'], 'nilai': nilai_baru})\n",
    "            print(f\"Nilai {nama_matkul} ditambahkan {jumlah_nilai}. \\nTotal nilai {nama_matkul} saat ini {nilai_baru}\")\n",
    "        else:\n",
    "            hasil_baru.append(item)  # Menyimpan item yang tidak berubah\n",
    "    return hasil_baru  # TO-DO 2: fungsi harus memberikan hasil baru\n",
    "\n",
    "# Panggil fungsi tambah_nilai\n",
    "nilai_baru = tambah_nilai('Mobile', 15, nilai)  # TO-DO 4: passing variabel `nilai`\n",
    "\n",
    "# Cek nilai awal\n",
    "print(\"Nilai awal: \", nilai)\n",
    "\n",
    "# Cek nilai hasil tambah_nilai\n",
    "print(\"Nilai update: \", nilai_baru)"
   ]
  },
  {
   "cell_type": "code",
   "execution_count": 4,
   "metadata": {},
   "outputs": [
    {
     "name": "stdout",
     "output_type": "stream",
     "text": [
      "Output menggunakan loop for (NIM ganjil):\n",
      "{'matkul': 'Fungsional', 'nilai': 95}\n",
      "{'matkul': 'Mobile', 'nilai': 55}\n",
      "\n",
      "Output menggunakan next() (NIM genap):\n",
      "{'matkul': 'Fungsional', 'nilai': 95}\n",
      "{'matkul': 'Mobile', 'nilai': 55}\n"
     ]
    }
   ],
   "source": [
    "# Nilai asli\n",
    "nilai = [\n",
    "    {'matkul': 'Fungsional', 'nilai': 95},\n",
    "    {'matkul': 'Mobile', 'nilai': 55}\n",
    "]\n",
    "\n",
    "# TO-DO 1: deklarasi fungsi\n",
    "def cetak_nilai(daftar_nilai):\n",
    "    # TO-DO 2: loop/iterasi data\n",
    "    for item in daftar_nilai:\n",
    "        # TO-DO 3: output fungsi\n",
    "        yield item  # Menggunakan yield untuk menghasilkan nilai satu per satu\n",
    "\n",
    "# Panggil fungsi cetak_nilai\n",
    "generator_nilai = cetak_nilai(nilai)  # TO-DO 4: memanggil generator\n",
    "\n",
    "# TO-DO 5: Tampilkan data/print out generator\n",
    "# NIM ganjil: menggunakan loop for\n",
    "print(\"Output menggunakan loop for (NIM ganjil):\")\n",
    "for item in generator_nilai:\n",
    "    print(item)\n",
    "\n",
    "# Jika ingin menggunakan next() untuk NIM genap:\n",
    "# Buat ulang generator karena generator sudah selesai di iterasi\n",
    "generator_nilai = cetak_nilai(nilai)\n",
    "\n",
    "print(\"\\nOutput menggunakan next() (NIM genap):\")\n",
    "try:\n",
    "    print(next(generator_nilai))\n",
    "    print(next(generator_nilai))\n",
    "    # Tambahkan next() sesuai kebutuhan jika ada lebih banyak item\n",
    "except StopIteration:\n",
    "    print(\"Semua nilai sudah ditampilkan.\")\n"
   ]
  },
  {
   "cell_type": "code",
   "execution_count": 5,
   "metadata": {},
   "outputs": [
    {
     "name": "stdout",
     "output_type": "stream",
     "text": [
      "Rata-rata nilai kelima mahasiswa tersebut adalah:  78.4\n"
     ]
    }
   ],
   "source": [
    "# Data mahasiswa\n",
    "data_mahasiswa = [\n",
    "    {'nama': 'Karina', 'matkul': 'Pemrograman Fungsional', 'nilai': 90},\n",
    "    {'nama': 'Seulgi', 'matkul': 'Pemrograman Mobile', 'nilai': 56},\n",
    "    {'nama': 'Wonyoung', 'matkul': 'Pemrograman Web', 'nilai': 95},\n",
    "    {'nama': 'Hanni', 'matkul': 'Piranti Cerdas', 'nilai': 88},\n",
    "    {'nama': 'Jihyo', 'matkul': 'Jaringan Komputer', 'nilai': 63},\n",
    "]\n",
    "\n",
    "# TO-DO 1: deklarasi fungsi\n",
    "def rata_rata(mahasiswa):\n",
    "    # TO-DO 2: proses hitung rata-rata\n",
    "    total_nilai = sum([mhs['nilai'] for mhs in mahasiswa])  # Menjumlahkan nilai semua mahasiswa\n",
    "    rata2 = total_nilai / len(mahasiswa)  # Membagi dengan jumlah mahasiswa\n",
    "    return rata2  # TO-DO 3: mengembalikan hasil rata-rata\n",
    "\n",
    "# TO-DO 4: panggil fungsi rata_rata() dan tampilkan hasilnya\n",
    "print(\"Rata-rata nilai kelima mahasiswa tersebut adalah: \", rata_rata(data_mahasiswa))\n",
    "\n"
   ]
  },
  {
   "cell_type": "code",
   "execution_count": 6,
   "metadata": {},
   "outputs": [
    {
     "name": "stdout",
     "output_type": "stream",
     "text": [
      "Data kelulusan mahasiswa = \n",
      "{'nama': 'Karina', 'matkul': 'Pemrograman Fungsional', 'nilai': 'sempurna'}\n",
      "{'nama': 'Seulgi', 'matkul': 'Pemrograman Mobile', 'nilai': 'gagal'}\n",
      "{'nama': 'Wonyoung', 'matkul': 'Pemrograman Web', 'nilai': 'sempurna'}\n",
      "{'nama': 'Hanni', 'matkul': 'Piranti Cerdas', 'nilai': 'sempurna'}\n",
      "{'nama': 'Jihyo', 'matkul': 'Jaringan Komputer', 'nilai': 'memenuhi'}\n"
     ]
    }
   ],
   "source": [
    "# Data mahasiswa\n",
    "data_mahasiswa = [\n",
    "    {'nama': 'Karina', 'matkul': 'Pemrograman Fungsional', 'nilai': 90},\n",
    "    {'nama': 'Seulgi', 'matkul': 'Pemrograman Mobile', 'nilai': 56},\n",
    "    {'nama': 'Wonyoung', 'matkul': 'Pemrograman Web', 'nilai': 95},\n",
    "    {'nama': 'Hanni', 'matkul': 'Piranti Cerdas', 'nilai': 88},\n",
    "    {'nama': 'Jihyo', 'matkul': 'Jaringan Komputer', 'nilai': 63},\n",
    "]\n",
    "\n",
    "# TO-DO 1: deklarasi fungsi\n",
    "def kelulusan(mahasiswa):\n",
    "    # TO-DO 2: buat salinan data baru agar tidak merubah data asli (effect-free)\n",
    "    hasil_kelulusan = []\n",
    "    \n",
    "    # TO_DO 3: ubah data nilai sesuai ketentuan\n",
    "    for mhs in mahasiswa:\n",
    "        # Salin data asli ke dalam variabel baru\n",
    "        mhs_baru = mhs.copy()\n",
    "\n",
    "        # Pengecekan kondisi nilai\n",
    "        if mhs_baru['nilai'] >= 85:\n",
    "            mhs_baru['nilai'] = 'sempurna'\n",
    "        elif mhs_baru['nilai'] < 60:\n",
    "            mhs_baru['nilai'] = 'gagal'\n",
    "        else:\n",
    "            mhs_baru['nilai'] = 'memenuhi'\n",
    "        \n",
    "        # Menambahkan data baru ke hasil_kelulusan\n",
    "        hasil_kelulusan.append(mhs_baru)\n",
    "    \n",
    "    return hasil_kelulusan  # TO-DO 4: output fungsi\n",
    "\n",
    "# TO-DO 5: panggil fungsi dan tampilkan hasilnya\n",
    "print(\"Data kelulusan mahasiswa = \")\n",
    "hasil = kelulusan(data_mahasiswa)\n",
    "for data in hasil:\n",
    "    print(data)\n"
   ]
  },
  {
   "cell_type": "code",
   "execution_count": 7,
   "metadata": {},
   "outputs": [
    {
     "name": "stdout",
     "output_type": "stream",
     "text": [
      "Nilai genap: \n",
      "{'nama': 'Karina', 'matkul': 'Pemrograman Fungsional', 'nilai': 90}\n",
      "{'nama': 'Seulgi', 'matkul': 'Pemrograman Mobile', 'nilai': 56}\n",
      "{'nama': 'Hanni', 'matkul': 'Piranti Cerdas', 'nilai': 88}\n",
      "\n",
      "Nilai ganjil: \n",
      "{'nama': 'Wonyoung', 'matkul': 'Pemrograman Web', 'nilai': 95}\n",
      "{'nama': 'Jihyo', 'matkul': 'Jaringan Komputer', 'nilai': 63}\n"
     ]
    }
   ],
   "source": [
    "# Data mahasiswa\n",
    "data_mahasiswa = [\n",
    "    {'nama': 'Karina', 'matkul': 'Pemrograman Fungsional', 'nilai': 90},\n",
    "    {'nama': 'Seulgi', 'matkul': 'Pemrograman Mobile', 'nilai': 56},\n",
    "    {'nama': 'Wonyoung', 'matkul': 'Pemrograman Web', 'nilai': 95},\n",
    "    {'nama': 'Hanni', 'matkul': 'Piranti Cerdas', 'nilai': 88},\n",
    "    {'nama': 'Jihyo', 'matkul': 'Jaringan Komputer', 'nilai': 63},\n",
    "]\n",
    "\n",
    "# TO_DO 1: deklarasi fungsi generator\n",
    "def cetak_nilai_genap_ganjil(mahasiswa, genap=True):\n",
    "    # TO-DO 2: Iterasi data mahasiswa\n",
    "    for mhs in mahasiswa:\n",
    "        # TO-DO 3: output nilai sesuai kondisi ganjil/genap\n",
    "        if genap and mhs['nilai'] % 2 == 0:  # Jika nilai genap\n",
    "            yield mhs\n",
    "        elif not genap and mhs['nilai'] % 2 != 0:  # Jika nilai ganjil\n",
    "            yield mhs\n",
    "\n",
    "# Misalkan NIM akhir adalah genap, maka kita cetak nilai genap\n",
    "# TO_DO 4: panggil fungsi generator\n",
    "genap_generator = cetak_nilai_genap_ganjil(data_mahasiswa, genap=True)\n",
    "\n",
    "# TO_DO 5: menampilkan hasil dari generator object (untuk nilai genap)\n",
    "print(\"Nilai genap: \")\n",
    "for nilai in genap_generator:\n",
    "    print(nilai)\n",
    "\n",
    "# Misalkan NIM akhir adalah ganjil, maka kita cetak nilai ganjil\n",
    "ganjil_generator = cetak_nilai_genap_ganjil(data_mahasiswa, genap=False)\n",
    "\n",
    "print(\"\\nNilai ganjil: \")\n",
    "for nilai in ganjil_generator:\n",
    "    print(nilai)"
   ]
  },
  {
   "cell_type": "code",
   "execution_count": 13,
   "metadata": {},
   "outputs": [
    {
     "name": "stdout",
     "output_type": "stream",
     "text": [
      "10 data pertama: [0, 31, 62, 93, 124, 155, 186, 217, 248, 279]\n"
     ]
    }
   ],
   "source": [
    "# TO_DO 1: menerima input tanggal lahir\n",
    "tanggal_lahir = int(input(\"Masukkan tanggal lahir: \"))\n",
    "\n",
    "# TO_DO 2: membuat generator expression\n",
    "generator_kelipatan = (i for i in range(1000) if i % tanggal_lahir == 0)\n",
    "\n",
    "# TO_DO 3: mencetak hasil\n",
    "# Casting generator menjadi list, kemudian slicing 10 data pertama\n",
    "kelipatan_list = list(generator_kelipatan)\n",
    "print(\"10 data pertama:\", kelipatan_list[:10])"
   ]
  }
 ],
 "metadata": {
  "kernelspec": {
   "display_name": "fungsional",
   "language": "python",
   "name": "python3"
  },
  "language_info": {
   "codemirror_mode": {
    "name": "ipython",
    "version": 3
   },
   "file_extension": ".py",
   "mimetype": "text/x-python",
   "name": "python",
   "nbconvert_exporter": "python",
   "pygments_lexer": "ipython3",
   "version": "3.12.6"
  }
 },
 "nbformat": 4,
 "nbformat_minor": 2
}
