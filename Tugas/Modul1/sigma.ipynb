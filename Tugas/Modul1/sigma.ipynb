{
 "cells": [
  {
   "cell_type": "code",
   "execution_count": 1,
   "metadata": {},
   "outputs": [],
   "source": [
    "import pandas as pd\n",
    "from faker import Faker\n",
    "import random\n",
    "from functools import reduce"
   ]
  },
  {
   "cell_type": "code",
   "execution_count": 2,
   "metadata": {},
   "outputs": [],
   "source": [
    "def format_harga(harga):\n",
    "    return f\"IDR {harga:,.0f}\".replace(\",\", \".\")"
   ]
  },
  {
   "cell_type": "code",
   "execution_count": 3,
   "metadata": {},
   "outputs": [
    {
     "name": "stdout",
     "output_type": "stream",
     "text": [
      "       id              nama harga_formatted  quantity     tanggal\n",
      "0   GN753  without Sandwich      IDR 23.651        81  2024-08-06\n",
      "1   GN727         only Soup      IDR 84.573         3  2024-08-06\n",
      "2   GN783       power Sushi      IDR 74.841        56  2024-08-06\n",
      "3   GN218       piece Salad      IDR 59.827        27  2024-08-07\n",
      "4   GN473       night Sushi      IDR 78.720        43  2024-08-07\n",
      "5   GN832      serve Burger      IDR 44.384        96  2024-08-07\n",
      "6   GN972       watch Sushi     IDR 186.981        55  2024-08-08\n",
      "7   GN143      cup Sandwich     IDR 144.495        56  2024-08-08\n",
      "8   GN124      garden Salad      IDR 31.908        19  2024-08-08\n",
      "9   GN827   evidence Burger     IDR 145.057        54  2024-08-09\n",
      "10  GN625         part Soup      IDR 54.895        15  2024-08-09\n",
      "11  GN734      himself Soup      IDR 70.915        87  2024-08-09\n"
     ]
    }
   ],
   "source": [
    "def generate_data(num_days=4, products_per_day=3):\n",
    "    faker = Faker()\n",
    "    dates = pd.date_range(\"2024-08-06\", periods=num_days).strftime('%Y-%m-%d')\n",
    "\n",
    "    food_names = [\n",
    "        f\"{faker.word()} {random.choice(['Pizza', 'Burger', 'Pasta', 'Salad', 'Sushi', 'Soup', 'Steak', 'Sandwich'])}\"\n",
    "        for _ in range(products_per_day * num_days)\n",
    "    ]\n",
    "\n",
    "    data_penjualan = pd.DataFrame({\n",
    "        \"id\": [\"GN\" + str(random.randint(100, 999)) for _ in range(products_per_day * num_days)],\n",
    "        \"nama\": food_names,\n",
    "        \"harga\": [random.randint(20000, 200000) for _ in range(products_per_day * num_days)],\n",
    "        \"quantity\": [random.randint(1, 100) for _ in range(products_per_day * num_days)],\n",
    "        \"tanggal\": [date for date in dates for _ in range(products_per_day)]\n",
    "    })\n",
    "\n",
    "    data_penjualan['harga_formatted'] = list(map(format_harga, data_penjualan['harga']))\n",
    "    return data_penjualan\n",
    "\n",
    "data_penjualan = generate_data()\n",
    "print(data_penjualan[['id', 'nama', 'harga_formatted', 'quantity', 'tanggal']])"
   ]
  },
  {
   "cell_type": "code",
   "execution_count": 4,
   "metadata": {},
   "outputs": [
    {
     "name": "stdout",
     "output_type": "stream",
     "text": [
      "       id              nama harga_formatted  quantity     tanggal  pendapatan pendapatan_formatted\n",
      "0   GN753  without Sandwich      IDR 23.651        81  2024-08-06     1915731        IDR 1.915.731\n",
      "1   GN727         only Soup      IDR 84.573         3  2024-08-06      253719          IDR 253.719\n",
      "2   GN783       power Sushi      IDR 74.841        56  2024-08-06     4191096        IDR 4.191.096\n",
      "3   GN218       piece Salad      IDR 59.827        27  2024-08-07     1615329        IDR 1.615.329\n",
      "4   GN473       night Sushi      IDR 78.720        43  2024-08-07     3384960        IDR 3.384.960\n",
      "5   GN832      serve Burger      IDR 44.384        96  2024-08-07     4260864        IDR 4.260.864\n",
      "6   GN972       watch Sushi     IDR 186.981        55  2024-08-08    10283955       IDR 10.283.955\n",
      "7   GN143      cup Sandwich     IDR 144.495        56  2024-08-08     8091720        IDR 8.091.720\n",
      "8   GN124      garden Salad      IDR 31.908        19  2024-08-08      606252          IDR 606.252\n",
      "9   GN827   evidence Burger     IDR 145.057        54  2024-08-09     7833078        IDR 7.833.078\n",
      "10  GN625         part Soup      IDR 54.895        15  2024-08-09      823425          IDR 823.425\n",
      "11  GN734      himself Soup      IDR 70.915        87  2024-08-09     6169605        IDR 6.169.605\n"
     ]
    }
   ],
   "source": [
    "def hitung_pendapatan(df):\n",
    "    df['pendapatan'] = df['harga'] * df['quantity']\n",
    "    df['pendapatan_formatted'] = list(map(format_harga, df['pendapatan']))\n",
    "    return df[['id', 'nama', 'harga_formatted', 'quantity', 'tanggal', 'pendapatan', 'pendapatan_formatted']]\n",
    "\n",
    "data_with_pendapatan = hitung_pendapatan(data_penjualan)\n",
    "print(data_with_pendapatan.to_string())"
   ]
  },
  {
   "cell_type": "code",
   "execution_count": 5,
   "metadata": {},
   "outputs": [
    {
     "name": "stdout",
     "output_type": "stream",
     "text": [
      "Rata-rata penjualan pada tanggal 2024-08-07: IDR 3.087.051\n"
     ]
    }
   ],
   "source": [
    "def average_penjualan(df, tanggal, min_revenue=500000):\n",
    "    try:\n",
    "        # Filter rows based on date\n",
    "        sales_on_date = df[df['tanggal'] == tanggal]\n",
    "        if sales_on_date.empty:\n",
    "            raise ValueError(\"Tanggal tidak ditemukan.\")\n",
    "\n",
    "        # Filter to include only rows where 'pendapatan' >= min_revenue\n",
    "        high_revenue_sales = sales_on_date[sales_on_date['pendapatan'] >= min_revenue]\n",
    "        \n",
    "        # If no rows meet the condition, return a message\n",
    "        if high_revenue_sales.empty:\n",
    "            return f\"Tidak ada penjualan dengan pendapatan di atas {format_harga(min_revenue)} pada tanggal tersebut.\"\n",
    "\n",
    "        # Reduce to calculate total revenue by summing 'pendapatan' for filtered rows\n",
    "        total_sales = reduce(int.__add__, (high_revenue_sales['pendapatan']))\n",
    "        avg_sales = total_sales / len(high_revenue_sales)\n",
    "        return format_harga(int(avg_sales))\n",
    "\n",
    "    except ValueError as e:\n",
    "        return str(e)\n",
    "    except Exception as e:\n",
    "        return \"Format tanggal tidak sesuai.\"\n",
    "    \n",
    "tanggal_input = input(\"skibidi\")\n",
    "average = average_penjualan(data_penjualan, tanggal_input)\n",
    "print(f\"Rata-rata penjualan pada tanggal {tanggal_input}: {average}\")"
   ]
  },
  {
   "cell_type": "code",
   "execution_count": 6,
   "metadata": {},
   "outputs": [
    {
     "name": "stdout",
     "output_type": "stream",
     "text": [
      "Tanggal: 2024-08-06, Total Penjualan: IDR 6.360.546\n",
      "Tanggal: 2024-08-07, Total Penjualan: IDR 9.261.153\n",
      "Tanggal: 2024-08-08, Total Penjualan: IDR 18.981.927\n",
      "Tanggal: 2024-08-09, Total Penjualan: IDR 14.826.108\n"
     ]
    }
   ],
   "source": [
    "def total_penjualan_recursive(grouped_data, index=0, results=None):\n",
    "    if results is None:\n",
    "        results = []\n",
    "    \n",
    "    # Base case for recursion\n",
    "    if index >= len(grouped_data):\n",
    "        return results\n",
    "    \n",
    "    row = grouped_data.iloc[index]\n",
    "    # Append result for the current date\n",
    "    results.append({\"tanggal\": row['tanggal'], \"total_penjualan\": format_harga(int(row['pendapatan']))})\n",
    "    \n",
    "    # Recursive call with incremented index\n",
    "    return total_penjualan_recursive(grouped_data, index + 1, results)\n",
    "\n",
    "grouped = data_with_pendapatan.groupby('tanggal')['pendapatan'].sum().reset_index()\n",
    "total_sales_by_date = total_penjualan_recursive(grouped)\n",
    "for penjualan in total_sales_by_date:\n",
    "    print(f\"Tanggal: {penjualan['tanggal']}, Total Penjualan: {penjualan['total_penjualan']}\")"
   ]
  }
 ],
 "metadata": {
  "kernelspec": {
   "display_name": "fungsional",
   "language": "python",
   "name": "python3"
  },
  "language_info": {
   "codemirror_mode": {
    "name": "ipython",
    "version": 3
   },
   "file_extension": ".py",
   "mimetype": "text/x-python",
   "name": "python",
   "nbconvert_exporter": "python",
   "pygments_lexer": "ipython3",
   "version": "3.12.6"
  }
 },
 "nbformat": 4,
 "nbformat_minor": 2
}
