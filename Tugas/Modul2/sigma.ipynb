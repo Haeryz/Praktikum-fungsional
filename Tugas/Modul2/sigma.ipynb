{
 "cells": [
  {
   "cell_type": "code",
   "execution_count": 24,
   "metadata": {},
   "outputs": [],
   "source": [
    "import pandas as pd\n",
    "from faker import Faker\n",
    "import random\n",
    "from functools import reduce"
   ]
  },
  {
   "cell_type": "code",
   "execution_count": 25,
   "metadata": {},
   "outputs": [],
   "source": [
    "def format_harga(harga):\n",
    "    return f\"IDR {harga:,.0f}\".replace(\",\", \".\")"
   ]
  },
  {
   "cell_type": "code",
   "execution_count": 26,
   "metadata": {},
   "outputs": [
    {
     "name": "stdout",
     "output_type": "stream",
     "text": [
      "       id             nama harga_formatted  quantity     tanggal\n",
      "0   GN694     field Burger     IDR 110.446        76  2024-08-06\n",
      "1   GN965  physical Burger     IDR 165.921        44  2024-08-06\n",
      "2   GN739     others Sushi      IDR 78.465        34  2024-08-06\n",
      "3   GN638     total Burger      IDR 73.477        92  2024-08-07\n",
      "4   GN568  finish Sandwich      IDR 75.371        78  2024-08-07\n",
      "5   GN370          a Pizza     IDR 107.402        24  2024-08-07\n",
      "6   GN340   marriage Pizza     IDR 185.979        17  2024-08-08\n",
      "7   GN305  something Pizza      IDR 55.620        78  2024-08-08\n",
      "8   GN662       side Pizza     IDR 123.240        83  2024-08-08\n",
      "9   GN204         out Soup     IDR 189.297        11  2024-08-09\n",
      "10  GN485        bad Pizza      IDR 83.032        56  2024-08-09\n",
      "11  GN983        nor Salad      IDR 28.516         3  2024-08-09\n"
     ]
    }
   ],
   "source": [
    "def generate_data(num_days=4, products_per_day=3):\n",
    "    faker = Faker()\n",
    "    dates = pd.date_range(\"2024-08-06\", periods=num_days).strftime('%Y-%m-%d')\n",
    "\n",
    "    food_names = [\n",
    "        f\"{faker.word()} {random.choice(['Pizza', 'Burger', 'Pasta', 'Salad', 'Sushi', 'Soup', 'Steak', 'Sandwich'])}\"\n",
    "        for _ in range(products_per_day * num_days)\n",
    "    ]\n",
    "\n",
    "    data_penjualan = pd.DataFrame({\n",
    "        \"id\": [\"GN\" + str(random.randint(100, 999)) for _ in range(products_per_day * num_days)],\n",
    "        \"nama\": food_names,\n",
    "        \"harga\": [random.randint(20000, 200000) for _ in range(products_per_day * num_days)],\n",
    "        \"quantity\": [random.randint(1, 100) for _ in range(products_per_day * num_days)],\n",
    "        \"tanggal\": [date for date in dates for _ in range(products_per_day)]\n",
    "    })\n",
    "\n",
    "    data_penjualan['harga_formatted'] = list(map(format_harga, data_penjualan['harga']))\n",
    "    return data_penjualan\n",
    "\n",
    "data_penjualan = generate_data()\n",
    "print(data_penjualan[['id', 'nama', 'harga_formatted', 'quantity', 'tanggal']])"
   ]
  },
  {
   "cell_type": "code",
   "execution_count": 27,
   "metadata": {},
   "outputs": [
    {
     "name": "stdout",
     "output_type": "stream",
     "text": [
      "       id             nama harga_formatted  quantity     tanggal  pendapatan pendapatan_formatted\n",
      "0   GN694     field Burger     IDR 110.446        76  2024-08-06     8393896        IDR 8.393.896\n",
      "1   GN965  physical Burger     IDR 165.921        44  2024-08-06     7300524        IDR 7.300.524\n",
      "2   GN739     others Sushi      IDR 78.465        34  2024-08-06     2667810        IDR 2.667.810\n",
      "3   GN638     total Burger      IDR 73.477        92  2024-08-07     6759884        IDR 6.759.884\n",
      "4   GN568  finish Sandwich      IDR 75.371        78  2024-08-07     5878938        IDR 5.878.938\n",
      "5   GN370          a Pizza     IDR 107.402        24  2024-08-07     2577648        IDR 2.577.648\n",
      "6   GN340   marriage Pizza     IDR 185.979        17  2024-08-08     3161643        IDR 3.161.643\n",
      "7   GN305  something Pizza      IDR 55.620        78  2024-08-08     4338360        IDR 4.338.360\n",
      "8   GN662       side Pizza     IDR 123.240        83  2024-08-08    10228920       IDR 10.228.920\n",
      "9   GN204         out Soup     IDR 189.297        11  2024-08-09     2082267        IDR 2.082.267\n",
      "10  GN485        bad Pizza      IDR 83.032        56  2024-08-09     4649792        IDR 4.649.792\n",
      "11  GN983        nor Salad      IDR 28.516         3  2024-08-09       85548           IDR 85.548\n"
     ]
    }
   ],
   "source": [
    "def hitung_pendapatan(df):\n",
    "    df['pendapatan'] = df['harga'] * df['quantity']\n",
    "    df['pendapatan_formatted'] = list(map(format_harga, df['pendapatan']))\n",
    "    return df[['id', 'nama', 'harga_formatted', 'quantity', 'tanggal', 'pendapatan', 'pendapatan_formatted']]\n",
    "\n",
    "data_with_pendapatan = hitung_pendapatan(data_penjualan)\n",
    "print(data_with_pendapatan.to_string())"
   ]
  },
  {
   "cell_type": "code",
   "execution_count": 28,
   "metadata": {},
   "outputs": [
    {
     "name": "stdout",
     "output_type": "stream",
     "text": [
      "Rata-rata penjualan pada tanggal 2024-08-06: IDR 6.120.743\n"
     ]
    }
   ],
   "source": [
    "def average_penjualan(df, tanggal, min_revenue=500000):\n",
    "    try:\n",
    "        # Filter rows based on date\n",
    "        sales_on_date = df[df['tanggal'] == tanggal]\n",
    "        if sales_on_date.empty:\n",
    "            raise ValueError(\"Tanggal tidak ditemukan.\")\n",
    "\n",
    "        # Filter to include only rows where 'pendapatan' >= min_revenue\n",
    "        high_revenue_sales = sales_on_date[sales_on_date['pendapatan'] >= min_revenue]\n",
    "        \n",
    "        # If no rows meet the condition, return a message\n",
    "        if high_revenue_sales.empty:\n",
    "            return f\"Tidak ada penjualan dengan pendapatan di atas {format_harga(min_revenue)} pada tanggal tersebut.\"\n",
    "\n",
    "        # Reduce to calculate total revenue by summing 'pendapatan' for filtered rows\n",
    "        total_sales = reduce(int.__add__, (high_revenue_sales['pendapatan']))\n",
    "        avg_sales = total_sales / len(high_revenue_sales)\n",
    "        return format_harga(int(avg_sales))\n",
    "\n",
    "    except ValueError as e:\n",
    "        return str(e)\n",
    "    except Exception as e:\n",
    "        return \"Format tanggal tidak sesuai.\"\n",
    "    \n",
    "tanggal_input = input(\"skibidi\")\n",
    "average = average_penjualan(data_penjualan, tanggal_input)\n",
    "print(f\"Rata-rata penjualan pada tanggal {tanggal_input}: {average}\")"
   ]
  },
  {
   "cell_type": "code",
   "execution_count": 29,
   "metadata": {},
   "outputs": [
    {
     "name": "stdout",
     "output_type": "stream",
     "text": [
      "Tanggal: 2024-08-06, Total Penjualan: IDR 18.362.230\n",
      "Tanggal: 2024-08-07, Total Penjualan: IDR 15.216.470\n",
      "Tanggal: 2024-08-08, Total Penjualan: IDR 17.728.923\n",
      "Tanggal: 2024-08-09, Total Penjualan: IDR 6.817.607\n"
     ]
    }
   ],
   "source": [
    "def total_penjualan_recursive(grouped_data, index=0, results=None):\n",
    "    if results is None:\n",
    "        results = []\n",
    "    \n",
    "    # Base case for recursion\n",
    "    if index >= len(grouped_data):\n",
    "        return results\n",
    "    \n",
    "    row = grouped_data.iloc[index]\n",
    "    # Append result for the current date\n",
    "    results.append({\"tanggal\": row['tanggal'], \"total_penjualan\": format_harga(int(row['pendapatan']))})\n",
    "    \n",
    "    # Recursive call with incremented index\n",
    "    return total_penjualan_recursive(grouped_data, index + 1, results)\n",
    "\n",
    "grouped = data_with_pendapatan.groupby('tanggal')['pendapatan'].sum().reset_index()\n",
    "total_sales_by_date = total_penjualan_recursive(grouped)\n",
    "for penjualan in total_sales_by_date:\n",
    "    print(f\"Tanggal: {penjualan['tanggal']}, Total Penjualan: {penjualan['total_penjualan']}\")"
   ]
  }
 ],
 "metadata": {
  "kernelspec": {
   "display_name": "fungsional",
   "language": "python",
   "name": "python3"
  },
  "language_info": {
   "codemirror_mode": {
    "name": "ipython",
    "version": 3
   },
   "file_extension": ".py",
   "mimetype": "text/x-python",
   "name": "python",
   "nbconvert_exporter": "python",
   "pygments_lexer": "ipython3",
   "version": "3.12.6"
  }
 },
 "nbformat": 4,
 "nbformat_minor": 2
}
