{
 "cells": [
  {
   "cell_type": "markdown",
   "metadata": {},
   "source": [
    "Import libraries"
   ]
  },
  {
   "cell_type": "code",
   "execution_count": 37,
   "metadata": {},
   "outputs": [],
   "source": [
    "import pandas as pd\n",
    "from faker import Faker\n",
    "import random\n",
    "from functools import reduce"
   ]
  },
  {
   "cell_type": "code",
   "execution_count": 38,
   "metadata": {},
   "outputs": [],
   "source": [
    "def format_harga(harga):\n",
    "    return f\"IDR {harga:,.0f}\".replace(\",\", \".\")"
   ]
  },
  {
   "cell_type": "markdown",
   "metadata": {},
   "source": [
    "1. Buatlah sebuah daftar atau list ‘data_penjualan’ yang berisi informasi seperti \n",
    "IDproduk, nama produk, harga, jumlah terjual (quantity), dan tanggal penjualan yang \n",
    "disusun dalam struktur data dictionary."
   ]
  },
  {
   "cell_type": "code",
   "execution_count": 39,
   "metadata": {},
   "outputs": [
    {
     "name": "stdout",
     "output_type": "stream",
     "text": [
      "       id              nama harga_formatted  quantity     tanggal\n",
      "0   GN546  especially Sushi     IDR 136.605        27  2024-08-06\n",
      "1   GN677     city Sandwich     IDR 143.029        11  2024-08-06\n",
      "2   GN731       visit Steak     IDR 137.722        80  2024-08-06\n",
      "3   GN682         of Burger      IDR 81.731        19  2024-08-07\n",
      "4   GN494         view Soup     IDR 163.528        65  2024-08-07\n",
      "5   GN991         rule Soup     IDR 170.434         3  2024-08-07\n",
      "6   GN573          you Soup      IDR 94.266        61  2024-08-08\n",
      "7   GN937         lot Pasta     IDR 127.519        64  2024-08-08\n",
      "8   GN469        ever Salad      IDR 22.114        88  2024-08-08\n",
      "9   GN108     surface Salad     IDR 197.441        43  2024-08-09\n",
      "10  GN353   effect Sandwich      IDR 81.435         5  2024-08-09\n",
      "11  GN655      effort Salad     IDR 137.444        18  2024-08-09\n"
     ]
    }
   ],
   "source": [
    "def generate_data(num_days=4, products_per_day=3):\n",
    "    faker = Faker()\n",
    "    dates = pd.date_range(\"2024-08-06\", periods=num_days).strftime('%Y-%m-%d')\n",
    "\n",
    "    # Use faker to generate product names and simulate food-related names\n",
    "    food_names = [f\"{faker.word()} {random.choice(['Pizza', 'Burger', 'Pasta', 'Salad', 'Sushi', 'Soup', 'Steak', 'Sandwich'])}\" \n",
    "                  for _ in range(products_per_day * num_days)]\n",
    "    \n",
    "    # list comprehension\n",
    "    data_penjualan = pd.DataFrame({\n",
    "        \"id\": [\"GN\" + str(random.randint(100, 999)) for _ in range(products_per_day * num_days)],\n",
    "        \"nama\": food_names,\n",
    "        \"harga\": [random.randint(20000, 200000) for _ in range(products_per_day * num_days)],\n",
    "        \"quantity\": [random.randint(1, 100) for _ in range(products_per_day * num_days)],\n",
    "        \"tanggal\": [date for date in dates for _ in range(products_per_day)]\n",
    "    })\n",
    "\n",
    "    # map\n",
    "    data_penjualan['harga_formatted'] = list(map(format_harga, data_penjualan['harga']))\n",
    "\n",
    "    return data_penjualan\n",
    "\n",
    "# Call the function to get the data\n",
    "data_penjualan = generate_data()\n",
    "print(data_penjualan[['id', 'nama', 'harga_formatted', 'quantity', 'tanggal']])"
   ]
  },
  {
   "cell_type": "markdown",
   "metadata": {},
   "source": [
    "2. Kemudian buatlah fungsi ‘hitung_pendapatan’ yang mengembalikan daftar baru dari semua informasi produk yang disertai total pendapatan untuk setiap produk."
   ]
  },
  {
   "cell_type": "code",
   "execution_count": 40,
   "metadata": {},
   "outputs": [
    {
     "name": "stdout",
     "output_type": "stream",
     "text": [
      "   id             nama harga_formatted  quantity    tanggal  pendapatan pendapatan_formatted\n",
      "GN546 especially Sushi     IDR 136.605        27 2024-08-06     3688335        IDR 3.688.335\n",
      "GN677    city Sandwich     IDR 143.029        11 2024-08-06     1573319        IDR 1.573.319\n",
      "GN731      visit Steak     IDR 137.722        80 2024-08-06    11017760       IDR 11.017.760\n",
      "GN682        of Burger      IDR 81.731        19 2024-08-07     1552889        IDR 1.552.889\n",
      "GN494        view Soup     IDR 163.528        65 2024-08-07    10629320       IDR 10.629.320\n",
      "GN991        rule Soup     IDR 170.434         3 2024-08-07      511302          IDR 511.302\n",
      "GN573         you Soup      IDR 94.266        61 2024-08-08     5750226        IDR 5.750.226\n",
      "GN937        lot Pasta     IDR 127.519        64 2024-08-08     8161216        IDR 8.161.216\n",
      "GN469       ever Salad      IDR 22.114        88 2024-08-08     1946032        IDR 1.946.032\n",
      "GN108    surface Salad     IDR 197.441        43 2024-08-09     8489963        IDR 8.489.963\n",
      "GN353  effect Sandwich      IDR 81.435         5 2024-08-09      407175          IDR 407.175\n",
      "GN655     effort Salad     IDR 137.444        18 2024-08-09     2473992        IDR 2.473.992\n"
     ]
    }
   ],
   "source": [
    "def hitung_pendapatan(df):\n",
    "    # Vectorized operation in Pandas for calculating revenue\n",
    "    df['pendapatan'] = df['harga'] * df['quantity']\n",
    "    df['pendapatan_formatted'] = df['pendapatan'].apply(lambda x: format_harga(int(x)))\n",
    "    return df[['id', 'nama', 'harga_formatted', 'quantity', 'tanggal', 'pendapatan', 'pendapatan_formatted']]\n",
    "\n",
    "data_with_pendapatan = hitung_pendapatan(data_penjualan)\n",
    "print(data_with_pendapatan.to_string(index=False)) "
   ]
  },
  {
   "cell_type": "markdown",
   "metadata": {},
   "source": [
    "3. Buatlah fungsi ‘average_penjualan’ yang akan mengembalikan rata-rata penjualan di tanggal tertentu sesuai inputan user. Jangan lupa buatlah exception handling apabila tanggal tidak ditemukan atau tidak sesuai format."
   ]
  },
  {
   "cell_type": "code",
   "execution_count": 41,
   "metadata": {},
   "outputs": [
    {
     "name": "stdout",
     "output_type": "stream",
     "text": [
      "Rata-rata penjualan pada tanggal 2024-08-07: Format tanggal tidak sesuai.\n"
     ]
    }
   ],
   "source": [
    "def average_penjualan(df, tanggal, minRevenue=50000):\n",
    "    try:\n",
    "        sales_on_date = df[df['tanggal'] == tanggal]\n",
    "        if sales_on_date.empty:\n",
    "            raise ValueError(\"Tanggal tidak ditemukan.\")\n",
    "        \n",
    "        mewing = sales_on_date[sales_on_date['pandapatan'] >= minRevenue]\n",
    "        \n",
    "        if mewing.empty:\n",
    "            return f\"mewing skibidi sigma Ohio {format_harga(minRevenue)} fanum tax.\"\n",
    "            \n",
    "        fanum = reduce(int.__add__, (mewing['pendapatan']))\n",
    "        # # Compute average using pandas operations\n",
    "        # avg_sales = (sales_on_date['harga'] * sales_on_date['quantity']).mean()\n",
    "        # return format_harga(int(avg_sales))\n",
    "        \n",
    "        rata_rata = fanum / len(mewing)\n",
    "        return format_harga (int(rata_rata))\n",
    "    \n",
    "    except ValueError as e:\n",
    "        return str(e)\n",
    "    except Exception as e:\n",
    "        return \"Format tanggal tidak sesuai.\"\n",
    "\n",
    "# Example usage\n",
    "tanggal_input = input(\"skibidi\")\n",
    "average = average_penjualan(data_penjualan, tanggal_input)\n",
    "print(f\"Rata-rata penjualan pada tanggal {tanggal_input}: {average}\")"
   ]
  },
  {
   "cell_type": "markdown",
   "metadata": {},
   "source": [
    "4. Buatlah fungsi ‘total_penjualan’ sebagai generator dengan inputan data hasil ‘hitung_pendapatan’ yang akan menghasilkan penjualan per tanggal pada setiap produk. Contoh output:"
   ]
  },
  {
   "cell_type": "code",
   "execution_count": 42,
   "metadata": {},
   "outputs": [
    {
     "name": "stdout",
     "output_type": "stream",
     "text": [
      "Tanggal: 2024-08-06, Total Penjualan: IDR 16.279.414\n",
      "Tanggal: 2024-08-07, Total Penjualan: IDR 12.693.511\n",
      "Tanggal: 2024-08-08, Total Penjualan: IDR 15.857.474\n",
      "Tanggal: 2024-08-09, Total Penjualan: IDR 11.371.130\n"
     ]
    }
   ],
   "source": [
    "def total_penjualan(df):\n",
    "    grouped = df.groupby('tanggal')['pendapatan'].sum().reset_index()\n",
    "    for _, row in grouped.iterrows():\n",
    "        yield {\"tanggal\": row['tanggal'], \"total_penjualan\": format_harga(int(row['pendapatan']))}\n",
    "\n",
    "data_with_pendapatan = hitung_pendapatan(data_penjualan)\n",
    "for penjualan in total_penjualan(data_with_pendapatan):\n",
    "    print(f\"Tanggal: {penjualan['tanggal']}, Total Penjualan: {penjualan['total_penjualan']}\")\n"
   ]
  }
 ],
 "metadata": {
  "kernelspec": {
   "display_name": "fungsional",
   "language": "python",
   "name": "python3"
  },
  "language_info": {
   "codemirror_mode": {
    "name": "ipython",
    "version": 3
   },
   "file_extension": ".py",
   "mimetype": "text/x-python",
   "name": "python",
   "nbconvert_exporter": "python",
   "pygments_lexer": "ipython3",
   "version": "3.12.6"
  }
 },
 "nbformat": 4,
 "nbformat_minor": 2
}
