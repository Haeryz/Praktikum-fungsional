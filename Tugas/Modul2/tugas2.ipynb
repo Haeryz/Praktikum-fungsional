{
 "cells": [
  {
   "cell_type": "markdown",
   "metadata": {},
   "source": [
    "Import libraries"
   ]
  },
  {
   "cell_type": "code",
   "execution_count": 1,
   "metadata": {},
   "outputs": [],
   "source": [
    "import pandas as pd\n",
    "from faker import Faker\n",
    "import random"
   ]
  },
  {
   "cell_type": "code",
   "execution_count": 2,
   "metadata": {},
   "outputs": [],
   "source": [
    "def format_harga(harga):\n",
    "    return f\"IDR {harga:,.0f}\".replace(\",\", \".\")"
   ]
  },
  {
   "cell_type": "markdown",
   "metadata": {},
   "source": [
    "1. Buatlah sebuah daftar atau list ‘data_penjualan’ yang berisi informasi seperti \n",
    "IDproduk, nama produk, harga, jumlah terjual (quantity), dan tanggal penjualan yang \n",
    "disusun dalam struktur data dictionary."
   ]
  },
  {
   "cell_type": "code",
   "execution_count": 3,
   "metadata": {},
   "outputs": [
    {
     "name": "stdout",
     "output_type": "stream",
     "text": [
      "       id             nama harga_formatted  quantity     tanggal\n",
      "0   GN999    because Salad     IDR 135.571        28  2024-08-06\n",
      "1   GN913      music Salad      IDR 85.122        58  2024-08-06\n",
      "2   GN193         son Soup      IDR 38.592        13  2024-08-06\n",
      "3   GN326     theory Steak     IDR 105.070        19  2024-08-07\n",
      "4   GN516       wind Pizza     IDR 194.309        20  2024-08-07\n",
      "5   GN725       help Salad     IDR 176.399        19  2024-08-07\n",
      "6   GN750  collection Soup     IDR 116.817        26  2024-08-08\n",
      "7   GN702        tax Sushi     IDR 176.321         4  2024-08-08\n",
      "8   GN232    beat Sandwich      IDR 96.713        58  2024-08-08\n",
      "9   GN676       meet Sushi      IDR 25.534        30  2024-08-09\n",
      "10  GN575       time Pasta      IDR 92.430        19  2024-08-09\n",
      "11  GN962   practice Pasta     IDR 120.779        71  2024-08-09\n"
     ]
    }
   ],
   "source": [
    "def generate_data(num_days=4, products_per_day=3):\n",
    "    faker = Faker()\n",
    "    dates = pd.date_range(\"2024-08-06\", periods=num_days).strftime('%Y-%m-%d')\n",
    "\n",
    "    # Use faker to generate product names and simulate food-related names\n",
    "    food_names = [f\"{faker.word()} {random.choice(['Pizza', 'Burger', 'Pasta', 'Salad', 'Sushi', 'Soup', 'Steak', 'Sandwich'])}\" \n",
    "                  for _ in range(products_per_day * num_days)]\n",
    "    \n",
    "    data_penjualan = pd.DataFrame({\n",
    "        \"id\": [\"GN\" + str(random.randint(100, 999)) for _ in range(products_per_day * num_days)],\n",
    "        \"nama\": food_names,\n",
    "        \"harga\": [random.randint(20000, 200000) for _ in range(products_per_day * num_days)],\n",
    "        \"quantity\": [random.randint(1, 100) for _ in range(products_per_day * num_days)],\n",
    "        \"tanggal\": [date for date in dates for _ in range(products_per_day)]\n",
    "    })\n",
    "\n",
    "    # Apply the price formatting function\n",
    "    data_penjualan['harga_formatted'] = data_penjualan['harga'].apply(format_harga)\n",
    "\n",
    "    return data_penjualan\n",
    "\n",
    "# Call the function to get the data\n",
    "data_penjualan = generate_data()\n",
    "print(data_penjualan[['id', 'nama', 'harga_formatted', 'quantity', 'tanggal']])"
   ]
  },
  {
   "cell_type": "markdown",
   "metadata": {},
   "source": [
    "2. Kemudian buatlah fungsi ‘hitung_pendapatan’ yang mengembalikan daftar baru dari semua informasi produk yang disertai total pendapatan untuk setiap produk."
   ]
  },
  {
   "cell_type": "code",
   "execution_count": 4,
   "metadata": {},
   "outputs": [
    {
     "name": "stdout",
     "output_type": "stream",
     "text": [
      "   id            nama harga_formatted  quantity    tanggal  pendapatan pendapatan_formatted\n",
      "GN999   because Salad     IDR 135.571        28 2024-08-06     3795988        IDR 3.795.988\n",
      "GN913     music Salad      IDR 85.122        58 2024-08-06     4937076        IDR 4.937.076\n",
      "GN193        son Soup      IDR 38.592        13 2024-08-06      501696          IDR 501.696\n",
      "GN326    theory Steak     IDR 105.070        19 2024-08-07     1996330        IDR 1.996.330\n",
      "GN516      wind Pizza     IDR 194.309        20 2024-08-07     3886180        IDR 3.886.180\n",
      "GN725      help Salad     IDR 176.399        19 2024-08-07     3351581        IDR 3.351.581\n",
      "GN750 collection Soup     IDR 116.817        26 2024-08-08     3037242        IDR 3.037.242\n",
      "GN702       tax Sushi     IDR 176.321         4 2024-08-08      705284          IDR 705.284\n",
      "GN232   beat Sandwich      IDR 96.713        58 2024-08-08     5609354        IDR 5.609.354\n",
      "GN676      meet Sushi      IDR 25.534        30 2024-08-09      766020          IDR 766.020\n",
      "GN575      time Pasta      IDR 92.430        19 2024-08-09     1756170        IDR 1.756.170\n",
      "GN962  practice Pasta     IDR 120.779        71 2024-08-09     8575309        IDR 8.575.309\n"
     ]
    }
   ],
   "source": [
    "def hitung_pendapatan(df):\n",
    "    # Vectorized operation in Pandas for calculating revenue\n",
    "    df['pendapatan'] = df['harga'] * df['quantity']\n",
    "    df['pendapatan_formatted'] = df['pendapatan'].apply(lambda x: format_harga(int(x)))\n",
    "    return df[['id', 'nama', 'harga_formatted', 'quantity', 'tanggal', 'pendapatan', 'pendapatan_formatted']]\n",
    "\n",
    "data_with_pendapatan = hitung_pendapatan(data_penjualan)\n",
    "print(data_with_pendapatan.to_string(index=False)) "
   ]
  },
  {
   "cell_type": "markdown",
   "metadata": {},
   "source": [
    "3. Buatlah fungsi ‘average_penjualan’ yang akan mengembalikan rata-rata penjualan di tanggal tertentu sesuai inputan user. Jangan lupa buatlah exception handling apabila tanggal tidak ditemukan atau tidak sesuai format."
   ]
  },
  {
   "cell_type": "code",
   "execution_count": 5,
   "metadata": {},
   "outputs": [
    {
     "name": "stdout",
     "output_type": "stream",
     "text": [
      "Rata-rata penjualan pada tanggal : Tanggal tidak ditemukan.\n"
     ]
    }
   ],
   "source": [
    "def average_penjualan(df, tanggal):\n",
    "    try:\n",
    "        sales_on_date = df[df['tanggal'] == tanggal]\n",
    "        if sales_on_date.empty:\n",
    "            raise ValueError(\"Tanggal tidak ditemukan.\")\n",
    "        \n",
    "        # Compute average using pandas operations\n",
    "        avg_sales = (sales_on_date['harga'] * sales_on_date['quantity']).mean()\n",
    "        return format_harga(int(avg_sales))\n",
    "    \n",
    "    except ValueError as e:\n",
    "        return str(e)\n",
    "    except Exception as e:\n",
    "        return \"Format tanggal tidak sesuai.\"\n",
    "\n",
    "# Example usage\n",
    "tanggal_input = input(\"skibidi\")\n",
    "average = average_penjualan(data_penjualan, tanggal_input)\n",
    "print(f\"Rata-rata penjualan pada tanggal {tanggal_input}: {average}\")"
   ]
  },
  {
   "cell_type": "markdown",
   "metadata": {},
   "source": [
    "4. Buatlah fungsi ‘total_penjualan’ sebagai generator dengan inputan data hasil ‘hitung_pendapatan’ yang akan menghasilkan penjualan per tanggal pada setiap produk. Contoh output:"
   ]
  },
  {
   "cell_type": "code",
   "execution_count": 6,
   "metadata": {},
   "outputs": [
    {
     "name": "stdout",
     "output_type": "stream",
     "text": [
      "Tanggal: 2024-08-06, Total Penjualan: IDR 9.234.760\n",
      "Tanggal: 2024-08-07, Total Penjualan: IDR 9.234.091\n",
      "Tanggal: 2024-08-08, Total Penjualan: IDR 9.351.880\n",
      "Tanggal: 2024-08-09, Total Penjualan: IDR 11.097.499\n"
     ]
    }
   ],
   "source": [
    "def total_penjualan(df):\n",
    "    grouped = df.groupby('tanggal')['pendapatan'].sum().reset_index()\n",
    "    for _, row in grouped.iterrows():\n",
    "        yield {\"tanggal\": row['tanggal'], \"total_penjualan\": format_harga(int(row['pendapatan']))}\n",
    "\n",
    "data_with_pendapatan = hitung_pendapatan(data_penjualan)\n",
    "for penjualan in total_penjualan(data_with_pendapatan):\n",
    "    print(f\"Tanggal: {penjualan['tanggal']}, Total Penjualan: {penjualan['total_penjualan']}\")\n"
   ]
  }
 ],
 "metadata": {
  "kernelspec": {
   "display_name": "fungsional",
   "language": "python",
   "name": "python3"
  },
  "language_info": {
   "codemirror_mode": {
    "name": "ipython",
    "version": 3
   },
   "file_extension": ".py",
   "mimetype": "text/x-python",
   "name": "python",
   "nbconvert_exporter": "python",
   "pygments_lexer": "ipython3",
   "version": "3.12.6"
  }
 },
 "nbformat": 4,
 "nbformat_minor": 2
}
