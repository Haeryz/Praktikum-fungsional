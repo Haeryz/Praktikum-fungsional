{
 "cells": [
  {
   "cell_type": "markdown",
   "metadata": {},
   "source": [
    "# Codelab 1\n",
    "\n",
    "Buatlah sebuah fungsi ‘create_board’ yang menerima dua parameter: width dan height. Fungsi ini akan mengembalikan sebuah nested list yang merepresentasikan sebuah papan catur dengan pola tertentu (dengan mapping) berukuran sesuai dengan width dan height. Pola ini bisa disesuaikan dengan keinginan masing-masing!\n",
    "\n",
    "Setelah membuat fungsi ‘create_board’, buatlah fungsi ‘chessboard’ yang menerima parameter nested list dari kode sebelumnya dan mengubah setiap pola yang ada menjadi pola lain yang berbeda!"
   ]
  },
  {
   "cell_type": "code",
   "execution_count": null,
   "metadata": {},
   "outputs": [],
   "source": [
    "from functools import reduce"
   ]
  },
  {
   "cell_type": "code",
   "execution_count": 1,
   "metadata": {},
   "outputs": [
    {
     "name": "stdout",
     "output_type": "stream",
     "text": [
      "Pola papan catur awal:\n",
      "['o', 'x', 'o', 'x', 'o']\n",
      "['x', 'o', 'x', 'o', 'x']\n",
      "['o', 'x', 'o', 'x', 'o']\n",
      "['x', 'o', 'x', 'o', 'x']\n",
      "['o', 'x', 'o', 'x', 'o']\n",
      "\n",
      "Pola papan catur setelah diubah:\n",
      "['#', '+', '#', '+', '#']\n",
      "['+', '#', '+', '#', '+']\n",
      "['#', '+', '#', '+', '#']\n",
      "['+', '#', '+', '#', '+']\n",
      "['#', '+', '#', '+', '#']\n"
     ]
    }
   ],
   "source": [
    "# Fungsi untuk membuat papan catur dengan pola 'o' dan 'x'\n",
    "def create_board(width, height):\n",
    "    # Gunakan list comprehension untuk membuat nested list dengan pola\n",
    "    return [[('o' if (i + j) % 2 == 0 else 'x') for i in range(width)] for j in range(height)]\n",
    "\n",
    "# Fungsi untuk mengubah pola pada papan catur\n",
    "def chessboard(board):\n",
    "    # Gunakan list comprehension untuk mengganti setiap elemen di dalam nested list\n",
    "    return [[('#' if cell == 'o' else '+') for cell in row] for row in board]\n",
    "\n",
    "# Contoh penggunaan\n",
    "width, height = 5, 5\n",
    "board = create_board(width, height)\n",
    "print(\"Pola papan catur awal:\")\n",
    "for row in board:\n",
    "    print(row)\n",
    "\n",
    "new_board = chessboard(board)\n",
    "print(\"\\nPola papan catur setelah diubah:\")\n",
    "for row in new_board:\n",
    "    print(row)\n"
   ]
  },
  {
   "cell_type": "code",
   "execution_count": 10,
   "metadata": {},
   "outputs": [
    {
     "name": "stdout",
     "output_type": "stream",
     "text": [
      "Initial chessboard pattern:\n",
      "['o', 'x', 'o', 'x', 'o']\n",
      "['x', 'o', 'x', 'o', 'x']\n",
      "['o', 'x', 'o', 'x', 'o']\n",
      "['x', 'o', 'x', 'o', 'x']\n",
      "['o', 'x', 'o', 'x', 'o']\n",
      "\n",
      "Pola papan catur setelah diubah:\n",
      "['#', '+', '#', '+', '#']\n",
      "['+', '#', '+', '#', '+']\n",
      "['#', '+', '#', '+', '#']\n",
      "['+', '#', '+', '#', '+']\n",
      "['#', '+', '#', '+', '#']\n"
     ]
    }
   ],
   "source": [
    "# Using a lambda to create the board\n",
    "width, height = 5, 5\n",
    "board = [[(lambda i, j: 'o' if (i + j) % 2 == 0 else 'x')(i, j) for i in range(width)] for j in range(height)]\n",
    "\n",
    "# Print the initial chessboard pattern\n",
    "print(\"Initial chessboard pattern:\")\n",
    "for row in board:\n",
    "    print(row)\n",
    "\n",
    "\n",
    "new_ohio = [[(lambda cell: '#' if cell == 'o' else '+')(cell) for cell in row] for row in board]\n",
    "print(\"\\nPola papan catur setelah diubah:\")\n",
    "for row in new_ohio:\n",
    "    print(row)"
   ]
  },
  {
   "cell_type": "markdown",
   "metadata": {},
   "source": [
    "# Codelab 2\n",
    "\n",
    "Diketahui data buku sebagai berikut:"
   ]
  },
  {
   "cell_type": "code",
   "execution_count": null,
   "metadata": {},
   "outputs": [
    {
     "ename": "NameError",
     "evalue": "name 'books' is not defined",
     "output_type": "error",
     "traceback": [
      "\u001b[1;31m---------------------------------------------------------------------------\u001b[0m\n",
      "\u001b[1;31mNameError\u001b[0m                                 Traceback (most recent call last)\n",
      "Cell \u001b[1;32mIn[17], line 2\u001b[0m\n",
      "\u001b[0;32m      1\u001b[0m \u001b[38;5;66;03m# Define and call the lambda function, passing in the books list\u001b[39;00m\n",
      "\u001b[1;32m----> 2\u001b[0m filtered_fanum \u001b[38;5;241m=\u001b[39m (\u001b[38;5;28;01mlambda\u001b[39;00m books: [book \u001b[38;5;28;01mfor\u001b[39;00m book \u001b[38;5;129;01min\u001b[39;00m books \u001b[38;5;28;01mif\u001b[39;00m book[\u001b[38;5;124m'\u001b[39m\u001b[38;5;124mjudul\u001b[39m\u001b[38;5;124m'\u001b[39m]\u001b[38;5;241m.\u001b[39mstartswith(\u001b[38;5;124m'\u001b[39m\u001b[38;5;124mK\u001b[39m\u001b[38;5;124m'\u001b[39m)])(\u001b[43mbooks\u001b[49m)\n",
      "\u001b[0;32m      4\u001b[0m \u001b[38;5;66;03m# Print the filtered list\u001b[39;00m\n",
      "\u001b[0;32m      5\u001b[0m \u001b[38;5;28mprint\u001b[39m(filtered_fanum)\n",
      "\n",
      "\u001b[1;31mNameError\u001b[0m: name 'books' is not defined"
     ]
    }
   ],
   "source": []
  },
  {
   "cell_type": "code",
   "execution_count": null,
   "metadata": {},
   "outputs": [
    {
     "name": "stdout",
     "output_type": "stream",
     "text": [
      "[{'judul': 'Kapan Nanti', 'penulis': 'Ziggy Z.', 'halaman': 142}, {'judul': 'Kubah', 'penulis': 'Ahmad Tohari', 'halaman': 184}]\n",
      "['Pulang', 'Kapan Nanti', 'Namaku Alam', 'Origin', 'Rumah Lebah', 'Kubah', 'Dompet Ayah Sepatu Ibu']\n",
      "[{'judul': 'Pulang', 'penulis': 'Tere Liye', 'halaman': 400}, {'judul': 'Namaku Alam', 'penulis': 'Leila S. Chudori', 'halaman': 448}, {'judul': 'Origin', 'penulis': 'Dan Brown', 'halaman': 511}, {'judul': 'Rumah Lebah', 'penulis': 'Ruwi Meita', 'halaman': 288}, {'judul': 'Dompet Ayah Sepatu Ibu', 'penulis': 'J. S. Khairen', 'halaman': 210}]\n",
      "2183\n"
     ]
    }
   ],
   "source": [
    "from functools import reduce\n",
    "\n",
    "books = [\n",
    "    {'judul':'Pulang', 'penulis': 'Tere Liye', 'halaman': 400},\n",
    "    {'judul':'Kapan Nanti', 'penulis': 'Ziggy Z.', 'halaman': 142},\n",
    "    {'judul':'Namaku Alam', 'penulis': 'Leila S. Chudori', 'halaman': 448},\n",
    "    {'judul':'Origin', 'penulis': 'Dan Brown', 'halaman': 511},\n",
    "    {'judul':'Rumah Lebah', 'penulis': 'Ruwi Meita', 'halaman': 288},\n",
    "    {'judul':'Kubah', 'penulis': 'Ahmad Tohari', 'halaman': 184},\n",
    "    {'judul':'Dompet Ayah Sepatu Ibu', 'penulis': 'J. S. Khairen', 'halaman': 210},\n",
    "]\n",
    "\n",
    "filtered_fanum = (lambda books: [book for book in books if book['judul'].startswith('K')])(books)\n",
    "print(filtered_fanum)\n",
    "\n",
    "skibi = map(lambda books: books['judul'], books)\n",
    "print(list(skibi))\n",
    "\n",
    "mewing = filter(lambda books: books['halaman'] > 200, books)\n",
    "print(list(mewing))\n",
    "\n",
    "gooning = reduce(lambda total,books: total + books['halaman'], books,0)\n",
    "print(gooning)"
   ]
  },
  {
   "cell_type": "markdown",
   "metadata": {},
   "source": [
    "1. Buatlah sebuah fungsi ‘book_filter’ yang menerima sebuah fungsi sebagai argumen dan mengembalikan daftar buku yang memenuhi kriteria buku berawalan huruf ‘K’ menggunakan list comprehension."
   ]
  },
  {
   "cell_type": "code",
   "execution_count": 21,
   "metadata": {},
   "outputs": [
    {
     "ename": "NameError",
     "evalue": "name 'books' is not defined",
     "output_type": "error",
     "traceback": [
      "\u001b[1;31m---------------------------------------------------------------------------\u001b[0m",
      "\u001b[1;31mNameError\u001b[0m                                 Traceback (most recent call last)",
      "Cell \u001b[1;32mIn[21], line 7\u001b[0m\n\u001b[0;32m      4\u001b[0m     \u001b[38;5;28;01mreturn\u001b[39;00m filtered_books\n\u001b[0;32m      6\u001b[0m \u001b[38;5;66;03m# Todo 2, Cetak hasil buku yang tersaring\u001b[39;00m\n\u001b[1;32m----> 7\u001b[0m filtered_books \u001b[38;5;241m=\u001b[39m book_filter(\u001b[43mbooks\u001b[49m)\n\u001b[0;32m      9\u001b[0m \u001b[38;5;66;03m# Todo 3, Gunakan loop untuk iterasi setiap buku di filtered_books.\u001b[39;00m\n\u001b[0;32m     10\u001b[0m \u001b[38;5;66;03m# Todo 4, Di dalam loop, cetak detail buku berupa judul, penulis, dan halaman.\u001b[39;00m\n\u001b[0;32m     11\u001b[0m \u001b[38;5;28;01mfor\u001b[39;00m book \u001b[38;5;129;01min\u001b[39;00m filtered_books:\n",
      "\u001b[1;31mNameError\u001b[0m: name 'books' is not defined"
     ]
    }
   ],
   "source": [
    "# Todo 1, Gunakan list comprehension untuk menyaring buku dari books yang judulnya diawali dengan huruf 'K'.\n",
    "def book_filter(books):\n",
    "    filtered_books = [book for book in books if book['judul'].startswith('K')]\n",
    "    return filtered_books\n",
    "\n",
    "# Todo 2, Cetak hasil buku yang tersaring\n",
    "filtered_books = book_filter(books)\n",
    "\n",
    "# Todo 3, Gunakan loop untuk iterasi setiap buku di filtered_books.\n",
    "# Todo 4, Di dalam loop, cetak detail buku berupa judul, penulis, dan halaman.\n",
    "for book in filtered_books:\n",
    "    print(f\"Judul: {book['judul']}, Penulis: {book['penulis']}, Halaman: {book['halaman']}\")\n",
    "    \n",
    "    \n",
    "\n"
   ]
  },
  {
   "cell_type": "code",
   "execution_count": null,
   "metadata": {},
   "outputs": [
    {
     "ename": "NameError",
     "evalue": "name 'books' is not defined",
     "output_type": "error",
     "traceback": [
      "\u001b[1;31m---------------------------------------------------------------------------\u001b[0m",
      "\u001b[1;31mNameError\u001b[0m                                 Traceback (most recent call last)",
      "Cell \u001b[1;32mIn[17], line 2\u001b[0m\n\u001b[0;32m      1\u001b[0m \u001b[38;5;66;03m# Define and call the lambda function, passing in the books list\u001b[39;00m\n\u001b[1;32m----> 2\u001b[0m filtered_fanum \u001b[38;5;241m=\u001b[39m (\u001b[38;5;28;01mlambda\u001b[39;00m books: [book \u001b[38;5;28;01mfor\u001b[39;00m book \u001b[38;5;129;01min\u001b[39;00m books \u001b[38;5;28;01mif\u001b[39;00m book[\u001b[38;5;124m'\u001b[39m\u001b[38;5;124mjudul\u001b[39m\u001b[38;5;124m'\u001b[39m]\u001b[38;5;241m.\u001b[39mstartswith(\u001b[38;5;124m'\u001b[39m\u001b[38;5;124mK\u001b[39m\u001b[38;5;124m'\u001b[39m)])(\u001b[43mbooks\u001b[49m)\n\u001b[0;32m      4\u001b[0m \u001b[38;5;66;03m# Print the filtered list\u001b[39;00m\n\u001b[0;32m      5\u001b[0m \u001b[38;5;28mprint\u001b[39m(filtered_fanum)\n",
      "\u001b[1;31mNameError\u001b[0m: name 'books' is not defined"
     ]
    }
   ],
   "source": []
  },
  {
   "cell_type": "markdown",
   "metadata": {},
   "source": [
    "2. Buat daftar baru yang berisi hanya judul buku saja menggunakan fungsi map()"
   ]
  },
  {
   "cell_type": "code",
   "execution_count": 6,
   "metadata": {},
   "outputs": [
    {
     "name": "stdout",
     "output_type": "stream",
     "text": [
      "Pulang\n",
      "Kapan Nanti\n",
      "Namaku Alam\n",
      "Origin\n",
      "Rumah Lebah\n",
      "Kubah\n",
      "Dompet Ayah Sepatu Ibu\n"
     ]
    }
   ],
   "source": [
    "# Todo 1, Definisikan fungsi untuk mendapatkan judul buku\n",
    "def judul_buku(book):\n",
    "    return book['judul']  # Todo 2\n",
    "\n",
    "# Todo 3, Gunakan `map` untuk mendapatkan semua judul buku\n",
    "judul_buku_list = map(judul_buku, books)\n",
    "\n",
    "# Todo 4, Cetak judul buku dan gunakan loop untuk iterasi melalui hasil judul_buku\n",
    "for judul in judul_buku_list:\n",
    "    print(judul)\n"
   ]
  },
  {
   "cell_type": "markdown",
   "metadata": {},
   "source": [
    "3. Buat daftar buku dengan halaman lebih dari 200 menggunakan fungsi filter()"
   ]
  },
  {
   "cell_type": "code",
   "execution_count": 7,
   "metadata": {},
   "outputs": [
    {
     "name": "stdout",
     "output_type": "stream",
     "text": [
      "Judul: Pulang, Penulis: Tere Liye, Halaman: 400\n",
      "Judul: Namaku Alam, Penulis: Leila S. Chudori, Halaman: 448\n",
      "Judul: Origin, Penulis: Dan Brown, Halaman: 511\n",
      "Judul: Rumah Lebah, Penulis: Ruwi Meita, Halaman: 288\n",
      "Judul: Dompet Ayah Sepatu Ibu, Penulis: J. S. Khairen, Halaman: 210\n"
     ]
    }
   ],
   "source": [
    "# Todo 1, Definisikan fungsi untuk memeriksa jumlah halaman\n",
    "def lebih_200(book):\n",
    "    return book['halaman'] > 200  # Todo 2\n",
    "\n",
    "# Todo 3, Gunakan filter untuk menyaring buku\n",
    "books_200 = filter(lebih_200, books)\n",
    "\n",
    "# Todo 4, Cetak hasil, gunakan loop untuk iterasi melalui hasil books_200.\n",
    "for book in books_200:\n",
    "    print(f\"Judul: {book['judul']}, Penulis: {book['penulis']}, Halaman: {book['halaman']}\")\n"
   ]
  },
  {
   "cell_type": "markdown",
   "metadata": {},
   "source": [
    "4. Hitunglah total jumlah halaman semua buku menggunakan fungsi reduce"
   ]
  },
  {
   "cell_type": "code",
   "execution_count": 37,
   "metadata": {},
   "outputs": [
    {
     "name": "stdout",
     "output_type": "stream",
     "text": [
      "Total jumlah halaman: 2183\n"
     ]
    }
   ],
   "source": [
    "# Todo 1, Import modul yang diperlukan\n",
    "from functools import reduce\n",
    "\n",
    "# Todo 2, Definisikan fungsi untuk menghitung total halaman\n",
    "def hitung_halaman(total, book):\n",
    "    return total + book['halaman']  # Todo 3\n",
    "\n",
    "# Todo 4, Gunakan reduce untuk menghitung total halaman\n",
    "total_halaman = reduce(hitung_halaman, books, 0)\n",
    "\n",
    "# Todo 5, Cetak total halaman\n",
    "print(f\"Total jumlah halaman: {total_halaman}\")\n"
   ]
  },
  {
   "cell_type": "code",
   "execution_count": null,
   "metadata": {},
   "outputs": [
    {
     "name": "stdout",
     "output_type": "stream",
     "text": [
      "[{'judul': 'Pulang', 'penulis': 'Tere Liye', 'halaman': 400}, {'judul': 'Namaku Alam', 'penulis': 'Leila S. Chudori', 'halaman': 448}, {'judul': 'Origin', 'penulis': 'Dan Brown', 'halaman': 511}, {'judul': 'Rumah Lebah', 'penulis': 'Ruwi Meita', 'halaman': 288}, {'judul': 'Dompet Ayah Sepatu Ibu', 'penulis': 'J. S. Khairen', 'halaman': 210}]\n",
      "2183\n"
     ]
    }
   ],
   "source": [
    "from functools import reduce\n",
    "\n",
    "books = [\n",
    "    {'judul':'Pulang', 'penulis': 'Tere Liye', 'halaman': 400},\n",
    "    {'judul':'Kapan Nanti', 'penulis': 'Ziggy Z.', 'halaman': 142},\n",
    "    {'judul':'Namaku Alam', 'penulis': 'Leila S. Chudori', 'halaman': 448},\n",
    "    {'judul':'Origin', 'penulis': 'Dan Brown', 'halaman': 511},\n",
    "    {'judul':'Rumah Lebah', 'penulis': 'Ruwi Meita', 'halaman': 288},\n",
    "    {'judul':'Kubah', 'penulis': 'Ahmad Tohari', 'halaman': 184},\n",
    "    {'judul':'Dompet Ayah Sepatu Ibu', 'penulis': 'J. S. Khairen', 'halaman': 210},\n",
    "]\n",
    "\n",
    "ohio = filter(lambda x : x['halaman'] > 200, books)\n",
    "print(list(ohio))\n",
    "\n",
    "mewing = reduce(lambda total, books: total + books['halaman'], books, 0)\n"
   ]
  }
 ],
 "metadata": {
  "kernelspec": {
   "display_name": "fungsional",
   "language": "python",
   "name": "python3"
  },
  "language_info": {
   "codemirror_mode": {
    "name": "ipython",
    "version": 3
   },
   "file_extension": ".py",
   "mimetype": "text/x-python",
   "name": "python",
   "nbconvert_exporter": "python",
   "pygments_lexer": "ipython3",
   "version": "3.12.6"
  }
 },
 "nbformat": 4,
 "nbformat_minor": 2
}
