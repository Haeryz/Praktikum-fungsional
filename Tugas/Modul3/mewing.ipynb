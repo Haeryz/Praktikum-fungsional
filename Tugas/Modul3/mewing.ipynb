{
 "cells": [
  {
   "cell_type": "code",
   "execution_count": 12,
   "metadata": {},
   "outputs": [
    {
     "name": "stdout",
     "output_type": "stream",
     "text": [
      "Sequence: [2, 10, 32, 88, 224, 544, 1280, 2944, 6656, 14848]\n",
      "Total Sum: 26628\n"
     ]
    }
   ],
   "source": [
    "from functools import reduce\n",
    "\n",
    "def arithmetic_geometric_sequence(a, d, r, n):\n",
    "    # Fungsi rekursif untuk menghitung suku ke-n\n",
    "    def calculate_term(a, d, r, n):\n",
    "        if n == 1:\n",
    "            return [a]  # Mengembalikan suku pertama dalam bentuk list\n",
    "        else:\n",
    "            # Hitung suku berikutnya dengan rumus yang diberikan dan tambahkan ke list suku\n",
    "            previous_terms = calculate_term(a, d, r, n - 1)\n",
    "            an = (a + (n - 1) * d) * (r ** (n - 1))\n",
    "            return previous_terms + [an]\n",
    "    \n",
    "    terms = calculate_term(a, d, r, n)\n",
    "    \n",
    "    # Menghitung jumlah semua suku menggunakan reduce\n",
    "    total_sum = reduce(lambda x, y: x + y, terms)\n",
    "    \n",
    "    return terms, total_sum\n",
    "\n",
    "# Contoh penggunaan\n",
    "a = 2\n",
    "d = 3\n",
    "r = 2\n",
    "n = 10\n",
    "\n",
    "sequence, total = arithmetic_geometric_sequence(a, d, r, n)\n",
    "print(\"Sequence:\", sequence)\n",
    "print(\"Total Sum:\", total)\n"
   ]
  }
 ],
 "metadata": {
  "kernelspec": {
   "display_name": "fungsional",
   "language": "python",
   "name": "python3"
  },
  "language_info": {
   "codemirror_mode": {
    "name": "ipython",
    "version": 3
   },
   "file_extension": ".py",
   "mimetype": "text/x-python",
   "name": "python",
   "nbconvert_exporter": "python",
   "pygments_lexer": "ipython3",
   "version": "3.12.6"
  }
 },
 "nbformat": 4,
 "nbformat_minor": 2
}
