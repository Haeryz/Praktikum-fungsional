{
 "cells": [
  {
   "cell_type": "code",
   "execution_count": 2,
   "metadata": {},
   "outputs": [
    {
     "name": "stdout",
     "output_type": "stream",
     "text": [
      "Sequence: [2, 10, 32, 88, 224]\n",
      "Total Sum: 356\n"
     ]
    }
   ],
   "source": [
    "from functools import reduce\n",
    "\n",
    "def arithmetic_geometric_sequence(a, d, r, n):\n",
    "    # Recursive function to calculate the nth term\n",
    "    def calculate_term(a, d, r, n):\n",
    "        if n == 1:\n",
    "            return [a]  # Return the first term in list form\n",
    "        else:\n",
    "            # Calculate the next term with the given formula and add it to the term list\n",
    "            previous_terms = calculate_term(a, d, r, n - 1)\n",
    "            an = (a + (n - 1) * d) * (r ** (n - 1))\n",
    "            return previous_terms + [an]\n",
    "        \n",
    "    \n",
    "    \n",
    "    terms = calculate_term(a, d, r, n)\n",
    "    \n",
    "    total_sum = reduce(int.__add__, terms)\n",
    "    \n",
    "    return terms, total_sum\n",
    "\n",
    "a = 2\n",
    "d = 3\n",
    "r = 2\n",
    "n = 5\n",
    "\n",
    "sequence, total = arithmetic_geometric_sequence(a, d, r, n)\n",
    "print(\"Sequence:\", sequence)\n",
    "\n",
    "print(\"Total Sum:\", total)\n"
   ]
  },
  {
   "cell_type": "markdown",
   "metadata": {},
   "source": [
    "(2+(1−1)⋅3)⋅(2 0)=2⋅1=2"
   ]
  }
 ],
 "metadata": {
  "kernelspec": {
   "display_name": "fungsional",
   "language": "python",
   "name": "python3"
  },
  "language_info": {
   "codemirror_mode": {
    "name": "ipython",
    "version": 3
   },
   "file_extension": ".py",
   "mimetype": "text/x-python",
   "name": "python",
   "nbconvert_exporter": "python",
   "pygments_lexer": "ipython3",
   "version": "3.12.6"
  }
 },
 "nbformat": 4,
 "nbformat_minor": 2
}
