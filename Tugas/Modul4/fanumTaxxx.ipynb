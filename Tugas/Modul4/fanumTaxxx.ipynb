{
 "cells": [
  {
   "cell_type": "code",
   "execution_count": 29,
   "metadata": {},
   "outputs": [],
   "source": [
    "from functools import reduce\n",
    "\n",
    "nilai_mahasiswa = {\n",
    "    'Zaidun' : 99,\n",
    "    'Suwarsono' : 100,\n",
    "    'Dedi' : 75,\n",
    "    'Diki' : 88,\n",
    "    'Joko' : 40,\n",
    "    'Rusdi' : 78,\n",
    "    'Diki' : 100,\n",
    "    'Ansori' : 92,\n",
    "    'Andri' : 76,\n",
    "    'Kahfi' : 58,\n",
    "    'Edi' : 77,\n",
    "    'Joko' : 15,\n",
    "    'Sutadi' : 90,\n",
    "    'Made' : 55,\n",
    "    'Nyoto' : 88,\n",
    "    'Widodo' : 100\n",
    "}\n",
    "\n",
    "# total_nilai = ...\n",
    "# nilai_tertinggi = ...\n",
    "# mahasiswa_lulus = ... # mahasiswa lulus kkm = 75\n",
    "# # tambah 5 poin untuk mahasiswa yang di bawah 75\n",
    "# nilai_mahasiswa_update = dict(map()) # lanjutkan hintnya\n",
    "\n",
    "# # tampilkan nilai"
   ]
  },
  {
   "cell_type": "code",
   "execution_count": null,
   "metadata": {},
   "outputs": [
    {
     "name": "stdout",
     "output_type": "stream",
     "text": [
      "1103\n",
      "['Suwarsono', 'Diki', 'Widodo']\n",
      "['Zaidun', 'Suwarsono', 'Dedi', 'Diki', 'Rusdi', 'Ansori', 'Andri', 'Edi', 'Sutadi', 'Nyoto', 'Widodo']\n",
      "{'Zaidun': 99, 'Suwarsono': 100, 'Dedi': 80, 'Diki': 100, 'Joko': 20, 'Rusdi': 78, 'Ansori': 92, 'Andri': 76, 'Kahfi': 63, 'Edi': 77, 'Sutadi': 90, 'Made': 60, 'Nyoto': 88, 'Widodo': 100}\n"
     ]
    }
   ],
   "source": [
    "total_nilai = reduce(lambda total, ohio: total + ohio, nilai_mahasiswa.values(),0)\n",
    "print(total_nilai)\n",
    "\n",
    "# Find the highest score\n",
    "max_score = max(nilai_mahasiswa.values())\n",
    "# Find all students with the highest score\n",
    "students_with_max_score = [student for student, score in nilai_mahasiswa.items() if score == max_score]\n",
    "\n",
    "# Print the students\n",
    "print(students_with_max_score)\n",
    "mahasiswa_lulus = filter(lambda x: nilai_mahasiswa[x] >= 75, nilai_mahasiswa)\n",
    "\n",
    "print(list(mahasiswa_lulus))\n",
    "\n",
    "nilai_mahasiswa_updated = dict(map(lambda x: (x[0], x[1] + 5) if x[1] <= 75 else (x[0], x[1]), nilai_mahasiswa.items()))\n",
    "\n",
    "\n",
    "print(nilai_mahasiswa_updated)\n"
   ]
  },
  {
   "cell_type": "code",
   "execution_count": 31,
   "metadata": {},
   "outputs": [
    {
     "name": "stdout",
     "output_type": "stream",
     "text": [
      "Fungsi ini dipanggil\n",
      "Hello, World!\n"
     ]
    }
   ],
   "source": [
    "# Step 1: Create the decorator\n",
    "def simple_decorator(func):\n",
    "    # Step 2: Define the wrapper (inner function)\n",
    "    def wrapper():\n",
    "        print(\"Fungsi ini dipanggil\")  # Before calling the original function\n",
    "        func()  # Call the original function\n",
    "    return wrapper\n",
    "\n",
    "# Step 3: Apply the decorator to the hello function\n",
    "@simple_decorator\n",
    "def hello():\n",
    "    print(\"Hello, World!\")\n",
    "\n",
    "# Calling the hello function\n",
    "hello()\n"
   ]
  },
  {
   "cell_type": "markdown",
   "metadata": {},
   "source": []
  }
 ],
 "metadata": {
  "kernelspec": {
   "display_name": "fungsional",
   "language": "python",
   "name": "python3"
  },
  "language_info": {
   "codemirror_mode": {
    "name": "ipython",
    "version": 3
   },
   "file_extension": ".py",
   "mimetype": "text/x-python",
   "name": "python",
   "nbconvert_exporter": "python",
   "pygments_lexer": "ipython3",
   "version": "3.12.6"
  }
 },
 "nbformat": 4,
 "nbformat_minor": 2
}
