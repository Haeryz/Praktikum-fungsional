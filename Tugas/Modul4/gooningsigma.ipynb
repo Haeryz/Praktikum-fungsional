{
 "cells": [
  {
   "cell_type": "markdown",
   "metadata": {},
   "source": [
    "Buatlah sebuah inputan user yang menerima string angka yang dipisahkan koma, selanjutnya ubah dan petakkan inputan menjadi titik-titik (x,y) seperti berikut:\n",
    "contoh_input = 1,2,3,4,5,6,7,8,9,10,11\n",
    "contoh_output = [(1,2), (3,4), (5,6), (7,8), (9,10)]"
   ]
  },
  {
   "cell_type": "code",
   "execution_count": 13,
   "metadata": {},
   "outputs": [
    {
     "name": "stdout",
     "output_type": "stream",
     "text": [
      "List of numbers: [1, 4, 6, 1]\n",
      "Coordinate output :  [(1, 4), (6, 1)]\n"
     ]
    }
   ],
   "source": [
    "number_list = []\n",
    "\n",
    "while True:\n",
    "    try:\n",
    "        # Ask for an even number as input\n",
    "        skibidi = int(input(\"Enter an even number: \"))\n",
    "        \n",
    "        # Check if skibidi is even\n",
    "        if skibidi % 2 == 0:\n",
    "            break\n",
    "        else:\n",
    "            print(\"ohio - The number is not even. Please try again.\")\n",
    "    \n",
    "    except ValueError:\n",
    "        print(\"Invalid input. Please enter an integer.\")\n",
    "\n",
    "# Once we have an even number, proceed with the rest of the code\n",
    "try:\n",
    "    for i in range(skibidi):\n",
    "        number_list.append(int(input(f\"Enter number {i+1}: \")))\n",
    "except ValueError:\n",
    "    print(\"Invalid input encountered while filling the list.\")\n",
    "\n",
    "coordinate_output = [(number_list[i],number_list[i + 1]) for i in range(0, skibidi, 2)]\n",
    "\n",
    "print(\"List of numbers:\", number_list)\n",
    "print(\"Coordinate output : \", coordinate_output)"
   ]
  },
  {
   "cell_type": "markdown",
   "metadata": {},
   "source": [
    "Note: lakukan exception ketika inputan berjumlah ganjil."
   ]
  },
  {
   "cell_type": "markdown",
   "metadata": {},
   "source": [
    " Buatlah 3 fungsi transformasi (translasi, rotasi, dilatasi) dengan memanfaatkan\n",
    " teknik HOF dan closure (nested function) terhadap daftar titik-titik (x,y) hasil dari\n",
    " soal no.1."
   ]
  },
  {
   "cell_type": "code",
   "execution_count": null,
   "metadata": {},
   "outputs": [
    {
     "name": "stdout",
     "output_type": "stream",
     "text": [
      "Execution time of createTranslasi: 0.003 ms\n",
      "Hasil setelah ditranslasi: [(7, 12), (9, 14)]\n",
      "Execution time of createRotasi: 0.006 ms\n",
      "Rotasi ke 90: [(-2.0, 1.0000000000000002), (-4.0, 3.0000000000000004)]\n",
      "Execution time of createDilatasi: 0.003 ms\n",
      "dilatasi: [(1.5, 3.0), (4.5, 6.0)]\n"
     ]
    }
   ],
   "source": [
    "import math\n",
    "import time\n",
    "\n",
    "# Decorator to measure execution time in milliseconds with higher precision\n",
    "def time_execution(func):\n",
    "    def wrapper(*args, **kwargs):\n",
    "        start_time = time.perf_counter()  # Use perf_counter for better precision\n",
    "        result = func(*args, **kwargs)  # Call the function\n",
    "        end_time = time.perf_counter()  # Record the end time\n",
    "        execution_time = (end_time - start_time) * 1000  # Convert to milliseconds\n",
    "        print(f\"Execution time of {func.__name__}: {execution_time:.3f} ms\")\n",
    "        return result\n",
    "    return wrapper \n",
    "\n",
    "# Translation function with decorator applied\n",
    "@time_execution\n",
    "def createTranslasi(dx, dy):\n",
    "    def translasi(coordinates):\n",
    "        return [(x + dx, y + dy) for (x, y) in coordinates]\n",
    "    return translasi\n",
    "\n",
    "# Rotation function with decorator applied\n",
    "@time_execution\n",
    "def createRotasi(angle):\n",
    "    angle_radiant = math.radians(angle)\n",
    "    def rotasike(coordinate):\n",
    "        return [\n",
    "            (\n",
    "                x * math.cos(angle_radiant) - y * math.sin(angle_radiant),\n",
    "                x * math.sin(angle_radiant) + y * math.cos(angle_radiant)\n",
    "            )\n",
    "            for (x, y) in coordinate\n",
    "        ]\n",
    "    return rotasike\n",
    "\n",
    "# Dilation function with decorator applied\n",
    "@time_execution\n",
    "def createDilatasi(skala):\n",
    "    def dilatasi(coordinates):\n",
    "        return [(x * skala, y * skala) for (x, y) in coordinates]\n",
    "    return dilatasi\n",
    "\n",
    "# Example coordinates (you should replace this with actual coordinates if different)\n",
    "coordinate_output = [(1, 2), (3, 4)]\n",
    "\n",
    "# Translating coordinates\n",
    "translator = createTranslasi(6, 10)\n",
    "translated = translator(coordinate_output)\n",
    "print(\"Hasil setelah ditranslasi:\", translated)\n",
    "\n",
    "# Rotating coordinates\n",
    "rotasi = createRotasi(90)\n",
    "rotatedCoordinate = rotasi(coordinate_output)\n",
    "print(\"Rotasi ke 90:\", rotatedCoordinate)\n",
    "\n",
    "# Dilating coordinates\n",
    "dilatasi = createDilatasi(1.5)\n",
    "afterDilatation = dilatasi(coordinate_output)\n",
    "print(\"dilatasi:\", afterDilatation)\n"
   ]
  }
 ],
 "metadata": {
  "kernelspec": {
   "display_name": "fungsional",
   "language": "python",
   "name": "python3"
  },
  "language_info": {
   "codemirror_mode": {
    "name": "ipython",
    "version": 3
   },
   "file_extension": ".py",
   "mimetype": "text/x-python",
   "name": "python",
   "nbconvert_exporter": "python",
   "pygments_lexer": "ipython3",
   "version": "3.12.6"
  }
 },
 "nbformat": 4,
 "nbformat_minor": 2
}
