{
 "cells": [
  {
   "cell_type": "markdown",
   "metadata": {},
   "source": [
    " Step:\n",
    " 1. Ekstrak data_matkul untuk keperluan visualisasi data*\n",
    " 2. Hitung total nilai untuk setiap mata kuliah*\n",
    " 3. Buat scatter plot untuk menunjukkan hubungan antara rata-rata nilai dan jumlah\n",
    " mahasiswa\n",
    " 4. Buat diagram batang untuk menyajikan total nilai setiap mata kuliah\n",
    " 5. Buat diagram garis untuk menggambarkan rata-rata nilai tiap mata kuliah\n",
    " 6. Buat pie chart menggambarkan jumlah mahasiswa tiap mata kuliah dan explode\n",
    " data terbesar untuk nim ganjil dan data terkecil untuk nim genap.\n",
    " 7. Visualisasikan dengan subplot untuk menampilkan semua plot sekaligus.\n",
    " Note*): Manfaatkan list comprehension, map dan lambda untuk mengerjakan step 1&2"
   ]
  },
  {
   "cell_type": "code",
   "execution_count": null,
   "metadata": {},
   "outputs": [],
   "source": [
    "data "
   ]
  }
 ],
 "metadata": {
  "kernelspec": {
   "display_name": "fungsional",
   "language": "python",
   "name": "python3"
  },
  "language_info": {
   "name": "python",
   "version": "3.12.6"
  }
 },
 "nbformat": 4,
 "nbformat_minor": 2
}
